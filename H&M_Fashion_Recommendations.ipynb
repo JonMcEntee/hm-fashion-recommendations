{
 "cells": [
  {
   "cell_type": "code",
   "execution_count": 1,
   "metadata": {},
   "outputs": [],
   "source": [
    "# Import our refactored modules\n",
    "from src.features.feature_generator import FeatureGenerator\n",
    "from src.models.als_model import create_als_recommender\n",
    "from src.models.baseline_model import create_baseline_recommender, create_temporal_baseline, create_random_baseline\n",
    "from src.evaluation.metrics import mapk"
   ]
  },
  {
   "cell_type": "code",
   "execution_count": 2,
   "metadata": {
    "id": "GSlvH4mhZHS6"
   },
   "outputs": [],
   "source": [
    "from datetime import datetime, timedelta\n",
    "from collections import defaultdict\n",
    "from functools import partial\n",
    "from implicit.als import AlternatingLeastSquares\n",
    "\n",
    "import pandas as pd\n",
    "import numpy as np\n",
    "import matplotlib.pyplot as plt\n",
    "import seaborn as sns\n",
    "import scipy.sparse as sp\n",
    "\n",
    "random_seed = 42"
   ]
  },
  {
   "cell_type": "markdown",
   "metadata": {
    "id": "V1MyJtmsqzTY"
   },
   "source": [
    "# H&M Fashion Recommendations\n",
    "\n",
    "This notebook details my approach to Kaggle's [H&M Personalized Fashion Recommendations](https://www.kaggle.com/competitions/h-and-m-personalized-fashion-recommendations/overview) competition, focused on predicting customers' next fashion purchases. With vast product selections becoming standard in retail, delivering precisely tailored suggestions is key to enhancing shopping experiences and brand loyalty in modern fashion commerce."
   ]
  },
  {
   "cell_type": "markdown",
   "metadata": {
    "id": "cb5oL9UURrod"
   },
   "source": [
    "# Summary (TL;DR)\n",
    "This notebook explores methods for building a personalized product recommendation system on transaction data from the H&M fashion retail dataset. Below is a summary of the workflow and findings:\n",
    "\n",
    " - **Goal**: Predict which fashion items a customer is most likely to purchase next, based on historical transaction data.\n",
    " - **Dataset Used**:\n",
    "  - H&M Kaggle competition dataset:\n",
    "    - `transactions_train.csv`: Customer purchase history with timestamps\n",
    "    - `articles.csv`: Metadata for fashion products\n",
    "    - `customers.csv`: Demographic and behavioral customer data\n",
    " - **Baseline Approach**: Filter and return items based on global popularity\n",
    " - **ALS Model (Collaborative Filtering)**\n",
    "  - Implemented using the `implicit` library's Alternating Least Squares (ALS) algorithm\n",
    "  - Trains latent embeddings for customers and articles by factorizing the interaction matrix\n",
    " - **Ranking and Recommendation Strategy**\n",
    "  - System generates a top-N list of recommendations per customer\n",
    "  - Recommendations are ranked by predicted relevance scores from the model\n",
    " - **Results**\n",
    "  - ALS provided personalized product suggestions aligned with recent customer behavior"
   ]
  },
  {
   "cell_type": "markdown",
   "metadata": {
    "id": "oY92jrL2GN0X"
   },
   "source": [
    "# Evaluation Metrics"
   ]
  },
  {
   "cell_type": "markdown",
   "metadata": {
    "id": "bxNiKn72GMS-"
   },
   "source": [
    "To evaluate our recommendations, we use Mean Average Precision at 12 (MAP@12), which is aligned with the competition's evaluation metric. It captures both the relevance and ranking of recommended items.\n",
    "\n",
    "$$\\text{MAP}@12 = \\frac{1}{U} \\sum_{u=1}^{U} \\frac{1}{\\min(m, 12)} \\sum_{k=1}^{12} P(k) \\cdot \\text{rel}(k)$$"
   ]
  },
  {
   "cell_type": "markdown",
   "metadata": {
    "id": "KwW4jsd9WEnm"
   },
   "source": [
    "# **Data Loading and Preprocessing**"
   ]
  },
  {
   "cell_type": "code",
   "execution_count": 3,
   "metadata": {
    "id": "BXpmj3LEqvkk"
   },
   "outputs": [],
   "source": [
    "directory = \"data/\"\n",
    "articles = pd.read_csv(directory + \"articles.csv\")\n",
    "customers = pd.read_csv(directory + \"customers.csv\")\n",
    "transactions = pd.read_csv(directory + \"transactions_sample.csv\",\n",
    "                           parse_dates=['t_dat'])"
   ]
  },
  {
   "cell_type": "code",
   "execution_count": 4,
   "metadata": {
    "id": "jearJNJBTXtG"
   },
   "outputs": [],
   "source": [
    "# add week column\n",
    "last_week = (transactions.t_dat.max() - transactions.t_dat.min()).days // 7 # 104\n",
    "transactions['week'] = last_week - (transactions.t_dat.max() - transactions.t_dat).dt.days // 7"
   ]
  },
  {
   "cell_type": "markdown",
   "metadata": {
    "id": "MVWXdxp3Tc04"
   },
   "source": [
    "Before modeling, we divide the dataset into training and testing subsets. This allows us to simulate a real-world recommendation scenario where predictions are made on unseen data."
   ]
  },
  {
   "cell_type": "code",
   "execution_count": 5,
   "metadata": {
    "id": "-5p3v5ifTXtH"
   },
   "outputs": [],
   "source": [
    "train = transactions[transactions.week < last_week].reset_index(drop=True)\n",
    "test = transactions[transactions.week == last_week].reset_index(drop=True)\n",
    "fitset = transactions[transactions.week < last_week - 1].reset_index(drop=True)\n",
    "validation = transactions[transactions.week == last_week - 1].reset_index(drop=True)"
   ]
  },
  {
   "cell_type": "markdown",
   "metadata": {
    "id": "LFze2pU9tEmk"
   },
   "source": [
    "**Key Data Files**  \n",
    "\n",
    "1. **`articles.csv`**  \n",
    "   - Contains detailed metadata for **105,542 unique fashion articles**, including:  \n",
    "     - `article_id`: Unique identifier for each product.  \n",
    "     - `product_code`, `prod_name`: Product identifiers and descriptions.  \n",
    "     - `product_type_no`, `product_type_name`: Numerical and textual product categories.  \n",
    "     - `product_group_name`: Broad category (e.g., \"Garment Upper body\").  \n",
    "     - Visual attributes: `colour_group_name`, `perceived_colour_value_name`, `perceived_colour_master_name`\n",
    "\n",
    "2. **`customers.csv`**  \n",
    "   - Profiles **1,371,980 unique customers** with:  \n",
    "     - `customer_id`: Unique identifier.  \n",
    "     - `FN` (binary): Indicates if the customer subscribed to H&M’s fashion news.  \n",
    "     - `Active` (binary): Customer activity status.  \n",
    "     - `club_member_status`: Loyalty program status.  \n",
    "     - `fashion_news_frequency`: Categorical. Level of engagement with H&M’s newsletters.  \n",
    "     - `age`: Customer age.\n",
    "     - `postal_code`: Location data.\n",
    "\n",
    "3. **`transactions_train.csv`**  \n",
    "   - Records **31,788,324 historical transactions** (Sept 2018–Sept 2020) with:  \n",
    "     - `t_dat`: Transaction date.  \n",
    "     - `customer_id`: Links to `customers.csv`.  \n",
    "     - `article_id`: Links to `articles.csv`.  \n",
    "     - `price`: Purchase price.\n",
    "     - `sales_channel_id`: Online (1) vs. in-store (2) purchases.  \n",
    "4. **`images/*.jpg`**\n",
    "     - **105,104** jpeg images\n",
    "      - images of each product (potential for computer vision analysis)\n"
   ]
  },
  {
   "cell_type": "markdown",
   "metadata": {
    "id": "AKg1qt4tOPza"
   },
   "source": [
    "# Exploratory Data Analysis"
   ]
  },
  {
   "cell_type": "markdown",
   "metadata": {
    "id": "Ez_c6YaKtN9Y"
   },
   "source": [
    "To understand purchasing trends, I merged transaction data with article details (product type and group) and analyzed the distribution of sales across different product categories.  "
   ]
  },
  {
   "cell_type": "code",
   "execution_count": 17,
   "metadata": {
    "id": "SiB-FZjgNM6o"
   },
   "outputs": [],
   "source": [
    "article_details = pd.merge(transactions,\n",
    "                           articles[[\"article_id\",\n",
    "                                     \"product_type_name\",\n",
    "                                     \"product_group_name\"]],\n",
    "                           how=\"left\", on=\"article_id\")\n",
    "\n",
    "product_types = article_details.groupby(\"product_type_name\")\\\n",
    "  .size()\\\n",
    "  .sort_values(ascending=False)\\\n",
    "  .reset_index(name='count')\n",
    "\n",
    "product_groups = article_details.groupby(\"product_group_name\")\\\n",
    "  .size()\\\n",
    "  .sort_values(ascending=False)\\\n",
    "  .reset_index(name='count')\n",
    "\n",
    "del article_details"
   ]
  },
  {
   "cell_type": "markdown",
   "metadata": {
    "id": "7lxNKRaTkKJ_"
   },
   "source": [
    "The bar plot below highlights the top 40 product types by sales volume. Trousers dominate, followed by other upper-body garments like T-shirts and sweaters. This insight can guide inventory prioritization and recommendation strategies."
   ]
  },
  {
   "cell_type": "code",
   "execution_count": 20,
   "metadata": {
    "colab": {
     "base_uri": "https://localhost:8080/",
     "height": 507
    },
    "id": "69xEumgqPGFN",
    "outputId": "0f32242c-d533-4b99-cb6f-1de648c6c38e"
   },
   "outputs": [
    {
     "data": {
      "image/png": "[encoded data removed]",
      "text/plain": [
       "<Figure size 900x500 with 1 Axes>"
      ]
     },
     "metadata": {},
     "output_type": "display_data"
    }
   ],
   "source": [
    "plt.figure(figsize=(9, 5))\n",
    "num_categories=40\n",
    "custom_palette = sns.color_palette('Blues', num_categories + 20)[20:][::-1]\n",
    "g = sns.barplot(\n",
    "    product_types.head(num_categories),\n",
    "    x = \"product_type_name\",\n",
    "    y = \"count\",\n",
    "    hue=\"product_type_name\",\n",
    "    palette=custom_palette,\n",
    "    dodge=False)\n",
    "\n",
    "g.tick_params(axis='x', labelrotation=80, labelsize=8)\n",
    "\n",
    "g.set_xlabel(\"\")\n",
    "g.set_ylabel(\"\")\n",
    "g.set_title(\"Top Sellers by Product Type\", fontweight='bold', pad=10)\n",
    "sns.despine(left=True)\n",
    "plt.tight_layout()"
   ]
  },
  {
   "cell_type": "code",
   "execution_count": 19,
   "metadata": {
    "colab": {
     "base_uri": "https://localhost:8080/",
     "height": 507
    },
    "id": "3J16CyhPTB5s",
    "outputId": "053a02dd-e42a-4938-c787-b977d932fda8"
   },
   "outputs": [
    {
     "data": {
      "image/png": "[encoded data removed]",
      "text/plain": [
       "<Figure size 800x500 with 1 Axes>"
      ]
     },
     "metadata": {},
     "output_type": "display_data"
    }
   ],
   "source": [
    "plt.figure(figsize=(8, 5))\n",
    "num_categories=10\n",
    "custom_palette = sns.color_palette('Greens', num_categories + 6)[6:][::-1]\n",
    "g = sns.barplot(product_groups.head(num_categories), x = \"product_group_name\", y = \"count\", hue=\"product_group_name\", palette=custom_palette)\n",
    "\n",
    "total = product_groups['count'].sum()\n",
    "\n",
    "for p in g.patches:\n",
    "    height = p.get_height()\n",
    "    percentage = '{:.1f}%'.format(100 * height/total)\n",
    "    g.text(p.get_x() + p.get_width()/2. + 0.04,\n",
    "           height,\n",
    "           percentage,\n",
    "           ha='center',\n",
    "           va='bottom',\n",
    "           fontsize=10)\n",
    "\n",
    "g.tick_params(axis='x', labelrotation=80, labelsize=10, size=0);\n",
    "shift_amount = -0.07\n",
    "new_xticks = [x + shift_amount for x in g.get_xticks()]\n",
    "g.set_xticks(new_xticks)\n",
    "\n",
    "g.set_xlabel(\"\")\n",
    "g.set_ylabel(\"\")\n",
    "g.set_title(\"Top Sellers by Product Group\", fontweight='bold', pad=10)\n",
    "g.axes.yaxis.set_visible(False)\n",
    "sns.despine(left=True, bottom=True)\n",
    "plt.tight_layout()"
   ]
  },
  {
   "cell_type": "markdown",
   "metadata": {
    "id": "HeY1ZZ3NlBXt"
   },
   "source": [
    "Purchase volume over time appears relatively stable, showing no clear upward or downward trend."
   ]
  },
  {
   "cell_type": "code",
   "execution_count": 21,
   "metadata": {
    "colab": {
     "base_uri": "https://localhost:8080/",
     "height": 487
    },
    "id": "PxDgRUO3VnJL",
    "outputId": "5684e2b1-e317-4eda-8aa0-351541499d83"
   },
   "outputs": [
    {
     "data": {
      "image/png": "[encoded data removed]",
      "text/plain": [
       "<Figure size 800x500 with 1 Axes>"
      ]
     },
     "metadata": {},
     "output_type": "display_data"
    }
   ],
   "source": [
    "plt.figure(figsize=(8, 5))\n",
    "g = sns.histplot(transactions,\n",
    "                 x = \"t_dat\",\n",
    "                 edgecolor=None,\n",
    "                 bins=100)\n",
    "\n",
    "g.set_ylabel('', labelpad=0)\n",
    "g.set_xlabel(\"Date\")\n",
    "g.set_title(\"Distribution of Data Over Time\", fontweight=\"bold\");\n",
    "# g.tick_params(axis='x', labelrotation=80, labelsize=10);\n",
    "\n",
    "sns.despine()"
   ]
  },
  {
   "cell_type": "markdown",
   "metadata": {
    "id": "DOHRg5tE3rO0"
   },
   "source": [
    "The majority of customers in the dataset have made at least one purchase, enabling the development of personalized recommendation models based on past behavior. However, for customers with limited or no transaction history, cold-start strategies (e.g., demographic-based or popularity-based recommendations) will be essential to provide meaningful suggestions."
   ]
  },
  {
   "cell_type": "code",
   "execution_count": 22,
   "metadata": {
    "id": "1T0CrRPTqAv3"
   },
   "outputs": [],
   "source": [
    "transaction_count = transactions\\\n",
    "  .groupby(\"customer_id\")\\\n",
    "  .size()\\\n",
    "  .reset_index(name=\"count\")\\\n",
    "  .groupby(\"count\")\\\n",
    "  .size()\\\n",
    "  .reset_index(name=\"customers\")\n",
    "\n",
    "no_transactions = customers[\n",
    "    ~customers[\"customer_id\"].isin(transactions[\"customer_id\"])]\n",
    "\n",
    "transaction_count = pd.concat([\n",
    "      pd.DataFrame([{\n",
    "          \"count\": 0,\n",
    "          \"customers\": len(no_transactions)\n",
    "      }]),\n",
    "      transaction_count\n",
    "    ],\n",
    "    ignore_index=True\n",
    ")\n",
    "\n",
    "bins = [0, 1, 2, 3, 5, 10, 50, 100, 200, np.inf]\n",
    "labels = ['0', '1', '2', '3-4', '5-9', '10-49', '50-99', '100-199', '200+']\n",
    "\n",
    "transaction_count['count_bin'] = pd.cut(transaction_count['count'],\n",
    "                                        bins=bins,\n",
    "                                        labels=labels,\n",
    "                                        right=False,\n",
    "                                        include_lowest=True)\n",
    "\n",
    "transaction_bins = transaction_count.groupby('count_bin', observed=True)['customers'].sum().reset_index()"
   ]
  },
  {
   "cell_type": "code",
   "execution_count": 23,
   "metadata": {},
   "outputs": [
    {
     "data": {
      "image/png": "[encoded data removed]",
      "text/plain": [
       "<Figure size 800x500 with 1 Axes>"
      ]
     },
     "metadata": {},
     "output_type": "display_data"
    }
   ],
   "source": [
    "plt.figure(figsize=(8, 5))\n",
    "num_categories=len(transaction_bins)\n",
    "custom_palette = sns.color_palette('Reds', num_categories + 6)[6:][::-1]\n",
    "g = sns.barplot(transaction_bins,\n",
    "                x = \"count_bin\",\n",
    "                y = \"customers\",\n",
    "                hue=\"count_bin\",\n",
    "                palette=custom_palette)\n",
    "g.tick_params(axis='x', labelsize=10, length=0);\n",
    "\n",
    "total = transaction_bins['customers'].sum()\n",
    "\n",
    "for p in g.patches:\n",
    "    height = p.get_height()\n",
    "    percentage = '{:.1f}%'.format(100 * height/total)\n",
    "    g.text(p.get_x() + p.get_width()/2. + 0.05,\n",
    "           height,\n",
    "           percentage,\n",
    "           ha='center',\n",
    "           va='bottom',\n",
    "           fontsize=10)\n",
    "\n",
    "g.axes.yaxis.set_visible(False)\n",
    "g.set_xlabel(\"Number of Purchases\")\n",
    "g.set_ylabel(\"Number of Customers\")\n",
    "g.set_title(\"Number of Products Bought Per Customer\", fontweight='bold', pad=10)\n",
    "sns.despine(left=True, bottom=True)\n",
    "plt.tight_layout()"
   ]
  },
  {
   "cell_type": "markdown",
   "metadata": {
    "id": "rerutimFU255"
   },
   "source": [
    " Analysis of the customer age distribution indicates a clear skew toward younger demographics. This trend may reflect H&M’s brand positioning and marketing efforts and should be considered when tailoring recommendation strategies to align with customer preferences."
   ]
  },
  {
   "cell_type": "code",
   "execution_count": 24,
   "metadata": {
    "id": "MgUPga4QJI0x"
   },
   "outputs": [],
   "source": [
    "age_count = customers.groupby(\"age\").size().reset_index(name=\"count\")\n",
    "\n",
    "bins = [0, 20, 25, 30, 35, 40, 45, 50, 55, 60, 65, 70, 75, np.inf]\n",
    "labels = ['16-19', '20-24', '25-29', '30-34', '34-39', '40-44', '45-49',\n",
    "          '50-54', '55-59', '60-64', '65-69', '70-74', '75+']\n",
    "\n",
    "age_count[\"bin\"] = pd.cut(age_count[\"age\"],\n",
    "                          bins=bins,\n",
    "                          labels=labels,\n",
    "                          right=False,\n",
    "                          include_lowest=True)\n",
    "\n",
    "age_bin = age_count.groupby('bin', observed=True)['count'].sum().reset_index()"
   ]
  },
  {
   "cell_type": "code",
   "execution_count": 25,
   "metadata": {
    "colab": {
     "base_uri": "https://localhost:8080/",
     "height": 506
    },
    "id": "2gG3mvagKyYs",
    "outputId": "dea352f1-e797-49c3-c67c-718f24e0f27e"
   },
   "outputs": [
    {
     "data": {
      "image/png": "[encoded data removed]",
      "text/plain": [
       "<Figure size 800x500 with 1 Axes>"
      ]
     },
     "metadata": {},
     "output_type": "display_data"
    }
   ],
   "source": [
    "plt.figure(figsize=(8, 5))\n",
    "num_categories=len(age_bin)\n",
    "custom_palette = sns.color_palette('Blues', num_categories + 10)[10:][::-1]\n",
    "g = sns.barplot(age_bin,\n",
    "                x = \"bin\",\n",
    "                y = \"count\",\n",
    "                hue=\"bin\",\n",
    "                palette=custom_palette)\n",
    "g.tick_params(axis='x', labelsize=10, length=0);\n",
    "\n",
    "total = age_bin['count'].sum()\n",
    "\n",
    "for p in g.patches:\n",
    "    height = p.get_height()\n",
    "    percentage = '{:.1f}%'.format(100 * height/total)\n",
    "    g.text(p.get_x() + p.get_width()/2. + 0.04,\n",
    "           height,\n",
    "           percentage,\n",
    "           ha='center',\n",
    "           va='bottom',\n",
    "           fontsize=9)\n",
    "\n",
    "g.axes.yaxis.set_visible(False)\n",
    "g.set_xlabel(\"Age Range\")\n",
    "g.set_ylabel(\"Number of Purchases\")\n",
    "g.set_title(\"Customer Percentage by Age Category\", fontweight='bold', pad=10)\n",
    "sns.despine(left=True, bottom=True)\n",
    "plt.tight_layout()"
   ]
  },
  {
   "cell_type": "markdown",
   "metadata": {
    "id": "v97HTkFVVBQ9"
   },
   "source": [
    "This age-related trend extends to purchasing behavior, where younger customers also account for a higher percentage of total transactions. Models may benefit from age-group segmentation to enhance prediction accuracy by capturing generational shopping patterns."
   ]
  },
  {
   "cell_type": "code",
   "execution_count": 26,
   "metadata": {
    "id": "DxpEB-CsNGqc"
   },
   "outputs": [],
   "source": [
    "customer_purchases = pd.merge(transactions,\n",
    "                              customers,\n",
    "                              how=\"left\", on=\"customer_id\")\n",
    "\n",
    "bins = [0, 20, 25, 30, 35, 40, 45, 50, 55, 60, 65, 70, 75, np.inf]\n",
    "labels = ['16-19', '20-24', '25-29', '30-34', '34-39', '40-44', '45-49',\n",
    "          '50-54', '55-59', '60-64', '65-69', '70-74', '75+']\n",
    "\n",
    "customer_purchases[\"bin\"] = pd.cut(customer_purchases[\"age\"],\n",
    "                                   bins=bins,\n",
    "                                   labels=labels,\n",
    "                                   right=False,\n",
    "                                   include_lowest=True)\n",
    "\n",
    "purchase_bin = customer_purchases.groupby('bin', observed=True).size().reset_index(name=\"count\")"
   ]
  },
  {
   "cell_type": "code",
   "execution_count": 27,
   "metadata": {
    "colab": {
     "base_uri": "https://localhost:8080/",
     "height": 506
    },
    "id": "unyFFnnnURA5",
    "outputId": "136210d7-c8df-4c62-f14d-6954c9335249"
   },
   "outputs": [
    {
     "data": {
      "image/png": "[encoded data removed]",
      "text/plain": [
       "<Figure size 800x500 with 1 Axes>"
      ]
     },
     "metadata": {},
     "output_type": "display_data"
    }
   ],
   "source": [
    "plt.figure(figsize=(8, 5))\n",
    "num_categories=len(purchase_bin)\n",
    "custom_palette = sns.color_palette('Greens', num_categories + 10)[10:][::-1]\n",
    "g = sns.barplot(purchase_bin,\n",
    "                x = \"bin\",\n",
    "                y = \"count\",\n",
    "                hue=\"bin\",\n",
    "                palette=custom_palette)\n",
    "g.tick_params(axis='x', labelsize=10, length=0);\n",
    "\n",
    "total = purchase_bin['count'].sum()\n",
    "\n",
    "for p in g.patches:\n",
    "    height = p.get_height()\n",
    "    percentage = '{:.1f}%'.format(100 * height/total)\n",
    "    g.text(p.get_x() + p.get_width()/2. + 0.04,\n",
    "           height,\n",
    "           percentage,\n",
    "           ha='center',\n",
    "           va='bottom',\n",
    "           fontsize=9)\n",
    "\n",
    "g.axes.yaxis.set_visible(False)\n",
    "g.set_xlabel(\"Age Range\")\n",
    "g.set_ylabel(\"Number of Purchases\")\n",
    "g.set_title(\"Product Purchases Percentage by Age Category\", fontweight='bold', pad=10)\n",
    "sns.despine(left=True, bottom=True)\n",
    "plt.tight_layout()"
   ]
  },
  {
   "cell_type": "markdown",
   "metadata": {
    "id": "hHwbdsneksRU"
   },
   "source": [
    "# Baseline Model: Most Popular Items"
   ]
  },
  {
   "cell_type": "markdown",
   "metadata": {
    "id": "ZEOO9Yi3o0yk"
   },
   "source": [
    "To establish a reference point for evaluating more advanced recommendation strategies, we start with a straightforward baseline model: recommending the most frequently purchased items. This simple heuristic serves as a sanity check and helps quantify the minimum performance a more sophisticated model should exceed.\n"
   ]
  },
  {
   "cell_type": "markdown",
   "metadata": {
    "id": "GXCA8ItVoiiA"
   },
   "source": [
    "Our baseline model recommends the top-k most frequently purchased articles across all users in the training set. This approach assumes that popularity alone is a good predictor of future purchases."
   ]
  },
  {
   "cell_type": "code",
   "execution_count": 6,
   "metadata": {
    "id": "Wf7bUErTDCJz"
   },
   "outputs": [
    {
     "data": {
      "text/plain": [
       "0.0032676198729058347"
      ]
     },
     "execution_count": 6,
     "metadata": {},
     "output_type": "execute_result"
    }
   ],
   "source": [
    "baseline = create_baseline_recommender(train)\n",
    "mapk(baseline, test)"
   ]
  },
  {
   "cell_type": "markdown",
   "metadata": {
    "id": "eT0a1mnm2YCL"
   },
   "source": [
    "Applying the most popular items recommender yields a MAP@12 score of approximately `0.0029`. While this performance is relatively low, it provides a meaningful reference point against which more advanced models (e.g., collaborative filtering) can be evaluated.\n",
    "\n",
    "While our initial baseline recommends globally popular items, it does not account for recency, which can be crucial in dynamic domains like fashion. To address this, we weight transactions by how recent they are, favoring items that were purchased more recently.\n",
    "\n",
    "We introduce a time-decay factor to weight each transaction inversely by the number of days before the start of the test period:"
   ]
  },
  {
   "cell_type": "markdown",
   "metadata": {
    "id": "1i_8OOsm7_wu"
   },
   "source": [
    "The temporal baseline achieves a MAP@12 score of approximately `0.0055`, nearly doubling the score from our original baseline."
   ]
  },
  {
   "cell_type": "code",
   "execution_count": 6,
   "metadata": {},
   "outputs": [
    {
     "data": {
      "text/plain": [
       "0.007610863525074964"
      ]
     },
     "execution_count": 6,
     "metadata": {},
     "output_type": "execute_result"
    }
   ],
   "source": [
    "temporal_baseline = create_temporal_baseline(train)\n",
    "mapk(temporal_baseline, test)"
   ]
  },
  {
   "cell_type": "markdown",
   "metadata": {},
   "source": [
    "For comparison we also have a random baseline which simply selects random items for each customer and has a MAP@12 score of `0.0`"
   ]
  },
  {
   "cell_type": "code",
   "execution_count": 8,
   "metadata": {},
   "outputs": [
    {
     "data": {
      "text/plain": [
       "0.0"
      ]
     },
     "execution_count": 8,
     "metadata": {},
     "output_type": "execute_result"
    }
   ],
   "source": [
    "random_baseline = create_random_baseline(train)\n",
    "mapk(random_baseline, test)"
   ]
  },
  {
   "cell_type": "markdown",
   "metadata": {
    "id": "yklhSLh-cNys"
   },
   "source": [
    "# Matrix Factorization with ALS"
   ]
  },
  {
   "cell_type": "markdown",
   "metadata": {
    "id": "kl6KqfOCPS2l"
   },
   "source": [
    "To move beyond popularity-based methods, we turn to Collaborative Filtering using Matrix Factorization via Alternating Least Squares (ALS). This technique models latent relationships between users and items based on historical interaction patterns.\n",
    "\n",
    "To incorporate time dynamics into ALS, we define a confidence score for each interaction that decreases with the age of the transaction:\n",
    "\n",
    "$$\n",
    "c_{\\text{user},\\text{item}} = \\alpha \\cdot \\sum_{i} \\frac{1}{d_i}\n",
    "$$\n",
    "\n",
    "Where:\n",
    " - $d_i$ is the number of days since transaction $i$.\n",
    " - $\\alpha$ is a tunable scaling factor.\n",
    "\n",
    "We prepare the data by mapping customer and article IDs to integer indices, compute confidence scores using time decay, and construct a dense user-item matrix for training the ALS model.\n",
    "\n",
    "One challenge with collaborative filtering is the cold start problem. ALS cannot recommend items for users with no historical data. To handle this, we fall back to our `temporal_baseline` model for unseen users.\n",
    "\n",
    "To optimize the performance of our ALS model, we conduct a grid search over several key hyperparameters. This systematic search allows us to evaluate different combinations of model settings and identify those that yield the best recommendation quality, measured using MAP@12. The details of this grid search can be found in `src/models/grid_search.py`\n",
    "\n",
    "Based on the grid search, we retrain the ALS model on the full training dataset."
   ]
  },
  {
   "cell_type": "code",
   "execution_count": 7,
   "metadata": {},
   "outputs": [
    {
     "data": {
      "application/vnd.jupyter.widget-view+json": {
       "model_id": "380a523e8f1e431abf6bfe3cc463ff2c",
       "version_major": 2,
       "version_minor": 0
      },
      "text/plain": [
       "  0%|          | 0/15 [00:00<?, ?it/s]"
      ]
     },
     "metadata": {},
     "output_type": "display_data"
    }
   ],
   "source": [
    "als_recommender = create_als_recommender(\n",
    "        train,\n",
    "        factors=100,\n",
    "        iterations=15,\n",
    "        regularization=0.01,\n",
    "        alpha=40.0,\n",
    "        random_seed=42,\n",
    "        baseline=temporal_baseline\n",
    "    )"
   ]
  },
  {
   "cell_type": "markdown",
   "metadata": {
    "id": "cpjuvV0UgM7U"
   },
   "source": [
    "The tuned ALS model achieves a MAP@12 score of approximately `0.0069`, which outperforms both baseline recommenders."
   ]
  },
  {
   "cell_type": "code",
   "execution_count": 8,
   "metadata": {},
   "outputs": [
    {
     "data": {
      "text/plain": [
       "0.00559819537289208"
      ]
     },
     "execution_count": 8,
     "metadata": {},
     "output_type": "execute_result"
    }
   ],
   "source": [
    "mapk(als_recommender, test)"
   ]
  },
  {
   "cell_type": "markdown",
   "metadata": {
    "id": "tVNaUE2NSjbj"
   },
   "source": [
    "# Candidate Generation with Simple Heuristics"
   ]
  },
  {
   "cell_type": "markdown",
   "metadata": {
    "id": "dzFw3Bh_Siwb"
   },
   "source": [
    "To improve recommendation quality, we shift from relying solely on collaborative filtering models like ALS to a hybrid approach. The core idea is to first generate a manageable set of promising candidate items using simple heuristics, and then let a learning-to-rank model (such as LightGBM Ranker) determine the optimal order of these items per user. This two-stage recommendation pipeline balances speed, diversity, and personalization."
   ]
  },
  {
   "cell_type": "markdown",
   "metadata": {
    "id": "gFS2dvs3JXe8"
   },
   "source": [
    "**Step 1: Heuristic-Based Candidate Generation\n",
    "We generate a pool of article candidates per user using a mix of rules, including:**\n",
    "\n",
    "1. **Most Popular Items** – Items with the highest sales across all customers.\n",
    "\n",
    "2. **Time-Decayed Popularity** – Items that have sold well recently.\n",
    "\n",
    "3. **Customer Purchase History** – Articles the user previously interacted with.\n",
    "\n",
    "4. **Product Variants** – Other articles sharing the same `product_code` as items previously bought by the customer.\n",
    "\n",
    "This allows us to propose items that are both broadly appealing and tailored to user preferences."
   ]
  },
  {
   "cell_type": "code",
   "execution_count": null,
   "metadata": {
    "id": "oXCsIxJ6Hoq-"
   },
   "outputs": [],
   "source": [
    "# Precompute best sellers for all weeks upfront\n",
    "best_sellers = train.groupby(\"week\")[\"article_id\"]\\\n",
    "  .value_counts()\\\n",
    "  .groupby(\"week\")\\\n",
    "  .rank(method='dense', ascending=False)\n",
    "best_sellers = best_sellers.rename('bestseller_rank').reset_index()\n",
    "best_sellers['week'] += 1  # Shift for easy lookup of \"last week\"\n",
    "best_sellers_dict = best_sellers.groupby('week')['article_id'].apply(list).to_dict()"
   ]
  },
  {
   "cell_type": "markdown",
   "metadata": {
    "id": "AZdQkT2hJ2yu"
   },
   "source": [
    "To capture customer behavior, we store all articles each user has purchased by week:"
   ]
  },
  {
   "cell_type": "code",
   "execution_count": null,
   "metadata": {
    "id": "tTd0lwSQbXUH"
   },
   "outputs": [],
   "source": [
    "from collections import defaultdict\n",
    "\n",
    "# Initialize dictionary\n",
    "customer_history_pairs = defaultdict(list)\n",
    "\n",
    "# Single pass through the data\n",
    "for _, row in train.iterrows():\n",
    "    customer_history_pairs[row['customer_id']].append(\n",
    "        (row['week'], row['article_id'])\n",
    "    )"
   ]
  },
  {
   "cell_type": "markdown",
   "metadata": {
    "id": "mMK0-pCKJ-bf"
   },
   "source": [
    "Some products appear in multiple styles or variants. We identify these relations using `product_code`:\n"
   ]
  },
  {
   "cell_type": "code",
   "execution_count": null,
   "metadata": {
    "id": "KLXnEaHYRZnB"
   },
   "outputs": [],
   "source": [
    "# Precompute article to product_code mapping\n",
    "article_to_product = {\n",
    "    article : product for article, product in zip(articles.article_id, articles.product_code)\n",
    "}\n",
    "\n",
    "# Precompute product code mappings\n",
    "product_code_map = articles.groupby('product_code')['article_id'].agg(list).to_dict()"
   ]
  },
  {
   "cell_type": "markdown",
   "metadata": {
    "id": "3uHibMXhKL6T"
   },
   "source": [
    "The following function combines all of the above heuristics to build a personalized list of candidate articles per customer:"
   ]
  },
  {
   "cell_type": "code",
   "execution_count": null,
   "metadata": {
    "id": "fHYSqBFqXCsv"
   },
   "outputs": [],
   "source": [
    "def generate_recommendations(customer, week, k=12):\n",
    "  recommendations = set()\n",
    "\n",
    "  recommendations.update(baseline(customer, k=k))\n",
    "\n",
    "  recommendations.update(temporal_baseline(customer, k=k))\n",
    "\n",
    "  recommendations.update(best_sellers_dict.get(week, [])[:k])\n",
    "\n",
    "  past_purchases = [ac for w, ac in \\\n",
    "                    customer_history_pairs[customer] if w <= week][:k]\n",
    "\n",
    "  recommendations.update(past_purchases)\n",
    "\n",
    "  for article in past_purchases:\n",
    "    recommendations.update(product_code_map[article_to_product[article]])\n",
    "\n",
    "  return list(recommendations)"
   ]
  },
  {
   "cell_type": "markdown",
   "metadata": {
    "id": "jvCSEVn814lk"
   },
   "source": [
    "Once candidates are generated, we train a model to learn ranking preferences by labeling known purchases as positive (`1`) and sampled non-purchases as negative (`0`)."
   ]
  },
  {
   "cell_type": "code",
   "execution_count": null,
   "metadata": {
    "colab": {
     "base_uri": "https://localhost:8080/",
     "height": 206
    },
    "id": "EJiF29-p14lk",
    "outputId": "2b19fcf4-e31c-4559-f6bc-927085296ac3"
   },
   "outputs": [
    {
     "data": {
      "application/vnd.google.colaboratory.intrinsic+json": {
       "type": "dataframe",
       "variable_name": "ranker_samples"
      },
      "text/html": [
       "\n",
       "  <div id=\"df-0c5056d5-51dc-4cac-9842-5a37503ab1fc\" class=\"colab-df-container\">\n",
       "    <div>\n",
       "<style scoped>\n",
       "    .dataframe tbody tr th:only-of-type {\n",
       "        vertical-align: middle;\n",
       "    }\n",
       "\n",
       "    .dataframe tbody tr th {\n",
       "        vertical-align: top;\n",
       "    }\n",
       "\n",
       "    .dataframe thead th {\n",
       "        text-align: right;\n",
       "    }\n",
       "</style>\n",
       "<table border=\"1\" class=\"dataframe\">\n",
       "  <thead>\n",
       "    <tr style=\"text-align: right;\">\n",
       "      <th></th>\n",
       "      <th>customer_id</th>\n",
       "      <th>week</th>\n",
       "      <th>article_id</th>\n",
       "    </tr>\n",
       "  </thead>\n",
       "  <tbody>\n",
       "    <tr>\n",
       "      <th>0</th>\n",
       "      <td>215895f90002eb3d1a04bd603513c8e85e6002ef08f136...</td>\n",
       "      <td>51</td>\n",
       "      <td>706016001</td>\n",
       "    </tr>\n",
       "    <tr>\n",
       "      <th>0</th>\n",
       "      <td>215895f90002eb3d1a04bd603513c8e85e6002ef08f136...</td>\n",
       "      <td>51</td>\n",
       "      <td>706016002</td>\n",
       "    </tr>\n",
       "    <tr>\n",
       "      <th>0</th>\n",
       "      <td>215895f90002eb3d1a04bd603513c8e85e6002ef08f136...</td>\n",
       "      <td>51</td>\n",
       "      <td>706016003</td>\n",
       "    </tr>\n",
       "    <tr>\n",
       "      <th>0</th>\n",
       "      <td>215895f90002eb3d1a04bd603513c8e85e6002ef08f136...</td>\n",
       "      <td>51</td>\n",
       "      <td>827968001</td>\n",
       "    </tr>\n",
       "    <tr>\n",
       "      <th>0</th>\n",
       "      <td>215895f90002eb3d1a04bd603513c8e85e6002ef08f136...</td>\n",
       "      <td>51</td>\n",
       "      <td>562245001</td>\n",
       "    </tr>\n",
       "  </tbody>\n",
       "</table>\n",
       "</div>\n",
       "    <div class=\"colab-df-buttons\">\n",
       "\n",
       "  <div class=\"colab-df-container\">\n",
       "    <button class=\"colab-df-convert\" onclick=\"convertToInteractive('df-0c5056d5-51dc-4cac-9842-5a37503ab1fc')\"\n",
       "            title=\"Convert this dataframe to an interactive table.\"\n",
       "            style=\"display:none;\">\n",
       "\n",
       "  <svg xmlns=\"http://www.w3.org/2000/svg\" height=\"24px\" viewBox=\"0 -960 960 960\">\n",
       "    <path d=\"M120-120v-720h720v720H120Zm60-500h600v-160H180v160Zm220 220h160v-160H400v160Zm0 220h160v-160H400v160ZM180-400h160v-160H180v160Zm440 0h160v-160H620v160ZM180-180h160v-160H180v160Zm440 0h160v-160H620v160Z\"/>\n",
       "  </svg>\n",
       "    </button>\n",
       "\n",
       "  <style>\n",
       "    .colab-df-container {\n",
       "      display:flex;\n",
       "      gap: 12px;\n",
       "    }\n",
       "\n",
       "    .colab-df-convert {\n",
       "      background-color: #E8F0FE;\n",
       "      border: none;\n",
       "      border-radius: 50%;\n",
       "      cursor: pointer;\n",
       "      display: none;\n",
       "      fill: #1967D2;\n",
       "      height: 32px;\n",
       "      padding: 0 0 0 0;\n",
       "      width: 32px;\n",
       "    }\n",
       "\n",
       "    .colab-df-convert:hover {\n",
       "      background-color: #E2EBFA;\n",
       "      box-shadow: 0px 1px 2px rgba(60, 64, 67, 0.3), 0px 1px 3px 1px rgba(60, 64, 67, 0.15);\n",
       "      fill: #174EA6;\n",
       "    }\n",
       "\n",
       "    .colab-df-buttons div {\n",
       "      margin-bottom: 4px;\n",
       "    }\n",
       "\n",
       "    [theme=dark] .colab-df-convert {\n",
       "      background-color: #3B4455;\n",
       "      fill: #D2E3FC;\n",
       "    }\n",
       "\n",
       "    [theme=dark] .colab-df-convert:hover {\n",
       "      background-color: #434B5C;\n",
       "      box-shadow: 0px 1px 3px 1px rgba(0, 0, 0, 0.15);\n",
       "      filter: drop-shadow(0px 1px 2px rgba(0, 0, 0, 0.3));\n",
       "      fill: #FFFFFF;\n",
       "    }\n",
       "  </style>\n",
       "\n",
       "    <script>\n",
       "      const buttonEl =\n",
       "        document.querySelector('#df-0c5056d5-51dc-4cac-9842-5a37503ab1fc button.colab-df-convert');\n",
       "      buttonEl.style.display =\n",
       "        google.colab.kernel.accessAllowed ? 'block' : 'none';\n",
       "\n",
       "      async function convertToInteractive(key) {\n",
       "        const element = document.querySelector('#df-0c5056d5-51dc-4cac-9842-5a37503ab1fc');\n",
       "        const dataTable =\n",
       "          await google.colab.kernel.invokeFunction('convertToInteractive',\n",
       "                                                    [key], {});\n",
       "        if (!dataTable) return;\n",
       "\n",
       "        const docLinkHtml = 'Like what you see? Visit the ' +\n",
       "          '<a target=\"_blank\" href=https://colab.research.google.com/notebooks/data_table.ipynb>data table notebook</a>'\n",
       "          + ' to learn more about interactive tables.';\n",
       "        element.innerHTML = '';\n",
       "        dataTable['output_type'] = 'display_data';\n",
       "        await google.colab.output.renderOutput(dataTable, element);\n",
       "        const docLink = document.createElement('div');\n",
       "        docLink.innerHTML = docLinkHtml;\n",
       "        element.appendChild(docLink);\n",
       "      }\n",
       "    </script>\n",
       "  </div>\n",
       "\n",
       "\n",
       "    <div id=\"df-566e7f43-9e2b-477a-abac-60f8723ef6b3\">\n",
       "      <button class=\"colab-df-quickchart\" onclick=\"quickchart('df-566e7f43-9e2b-477a-abac-60f8723ef6b3')\"\n",
       "                title=\"Suggest charts\"\n",
       "                style=\"display:none;\">\n",
       "\n",
       "<svg xmlns=\"http://www.w3.org/2000/svg\" height=\"24px\"viewBox=\"0 0 24 24\"\n",
       "     width=\"24px\">\n",
       "    <g>\n",
       "        <path d=\"M19 3H5c-1.1 0-2 .9-2 2v14c0 1.1.9 2 2 2h14c1.1 0 2-.9 2-2V5c0-1.1-.9-2-2-2zM9 17H7v-7h2v7zm4 0h-2V7h2v10zm4 0h-2v-4h2v4z\"/>\n",
       "    </g>\n",
       "</svg>\n",
       "      </button>\n",
       "\n",
       "<style>\n",
       "  .colab-df-quickchart {\n",
       "      --bg-color: #E8F0FE;\n",
       "      --fill-color: #1967D2;\n",
       "      --hover-bg-color: #E2EBFA;\n",
       "      --hover-fill-color: #174EA6;\n",
       "      --disabled-fill-color: #AAA;\n",
       "      --disabled-bg-color: #DDD;\n",
       "  }\n",
       "\n",
       "  [theme=dark] .colab-df-quickchart {\n",
       "      --bg-color: #3B4455;\n",
       "      --fill-color: #D2E3FC;\n",
       "      --hover-bg-color: #434B5C;\n",
       "      --hover-fill-color: #FFFFFF;\n",
       "      --disabled-bg-color: #3B4455;\n",
       "      --disabled-fill-color: #666;\n",
       "  }\n",
       "\n",
       "  .colab-df-quickchart {\n",
       "    background-color: var(--bg-color);\n",
       "    border: none;\n",
       "    border-radius: 50%;\n",
       "    cursor: pointer;\n",
       "    display: none;\n",
       "    fill: var(--fill-color);\n",
       "    height: 32px;\n",
       "    padding: 0;\n",
       "    width: 32px;\n",
       "  }\n",
       "\n",
       "  .colab-df-quickchart:hover {\n",
       "    background-color: var(--hover-bg-color);\n",
       "    box-shadow: 0 1px 2px rgba(60, 64, 67, 0.3), 0 1px 3px 1px rgba(60, 64, 67, 0.15);\n",
       "    fill: var(--button-hover-fill-color);\n",
       "  }\n",
       "\n",
       "  .colab-df-quickchart-complete:disabled,\n",
       "  .colab-df-quickchart-complete:disabled:hover {\n",
       "    background-color: var(--disabled-bg-color);\n",
       "    fill: var(--disabled-fill-color);\n",
       "    box-shadow: none;\n",
       "  }\n",
       "\n",
       "  .colab-df-spinner {\n",
       "    border: 2px solid var(--fill-color);\n",
       "    border-color: transparent;\n",
       "    border-bottom-color: var(--fill-color);\n",
       "    animation:\n",
       "      spin 1s steps(1) infinite;\n",
       "  }\n",
       "\n",
       "  @keyframes spin {\n",
       "    0% {\n",
       "      border-color: transparent;\n",
       "      border-bottom-color: var(--fill-color);\n",
       "      border-left-color: var(--fill-color);\n",
       "    }\n",
       "    20% {\n",
       "      border-color: transparent;\n",
       "      border-left-color: var(--fill-color);\n",
       "      border-top-color: var(--fill-color);\n",
       "    }\n",
       "    30% {\n",
       "      border-color: transparent;\n",
       "      border-left-color: var(--fill-color);\n",
       "      border-top-color: var(--fill-color);\n",
       "      border-right-color: var(--fill-color);\n",
       "    }\n",
       "    40% {\n",
       "      border-color: transparent;\n",
       "      border-right-color: var(--fill-color);\n",
       "      border-top-color: var(--fill-color);\n",
       "    }\n",
       "    60% {\n",
       "      border-color: transparent;\n",
       "      border-right-color: var(--fill-color);\n",
       "    }\n",
       "    80% {\n",
       "      border-color: transparent;\n",
       "      border-right-color: var(--fill-color);\n",
       "      border-bottom-color: var(--fill-color);\n",
       "    }\n",
       "    90% {\n",
       "      border-color: transparent;\n",
       "      border-bottom-color: var(--fill-color);\n",
       "    }\n",
       "  }\n",
       "</style>\n",
       "\n",
       "      <script>\n",
       "        async function quickchart(key) {\n",
       "          const quickchartButtonEl =\n",
       "            document.querySelector('#' + key + ' button');\n",
       "          quickchartButtonEl.disabled = true;  // To prevent multiple clicks.\n",
       "          quickchartButtonEl.classList.add('colab-df-spinner');\n",
       "          try {\n",
       "            const charts = await google.colab.kernel.invokeFunction(\n",
       "                'suggestCharts', [key], {});\n",
       "          } catch (error) {\n",
       "            console.error('Error during call to suggestCharts:', error);\n",
       "          }\n",
       "          quickchartButtonEl.classList.remove('colab-df-spinner');\n",
       "          quickchartButtonEl.classList.add('colab-df-quickchart-complete');\n",
       "        }\n",
       "        (() => {\n",
       "          let quickchartButtonEl =\n",
       "            document.querySelector('#df-566e7f43-9e2b-477a-abac-60f8723ef6b3 button');\n",
       "          quickchartButtonEl.style.display =\n",
       "            google.colab.kernel.accessAllowed ? 'block' : 'none';\n",
       "        })();\n",
       "      </script>\n",
       "    </div>\n",
       "\n",
       "    </div>\n",
       "  </div>\n"
      ],
      "text/plain": [
       "                                         customer_id  week article_id\n",
       "0  215895f90002eb3d1a04bd603513c8e85e6002ef08f136...    51  706016001\n",
       "0  215895f90002eb3d1a04bd603513c8e85e6002ef08f136...    51  706016002\n",
       "0  215895f90002eb3d1a04bd603513c8e85e6002ef08f136...    51  706016003\n",
       "0  215895f90002eb3d1a04bd603513c8e85e6002ef08f136...    51  827968001\n",
       "0  215895f90002eb3d1a04bd603513c8e85e6002ef08f136...    51  562245001"
      ]
     },
     "execution_count": 17,
     "metadata": {},
     "output_type": "execute_result"
    }
   ],
   "source": [
    "ranker_samples = train[[\"customer_id\", \"week\"]].drop_duplicates()\n",
    "\n",
    "ranker_samples[\"article_id\"] = ranker_samples.apply(\n",
    "    lambda x : generate_recommendations(\n",
    "        x[\"customer_id\"], x[\"week\"], k=20),\n",
    "    axis=1\n",
    "    )\n",
    "\n",
    "ranker_samples = ranker_samples.explode(\"article_id\")\n",
    "ranker_samples.head()"
   ]
  },
  {
   "cell_type": "markdown",
   "metadata": {
    "id": "12nz1TV-KX_p"
   },
   "source": [
    "We label the items that the customer actually purchased as positives:"
   ]
  },
  {
   "cell_type": "code",
   "execution_count": null,
   "metadata": {
    "id": "tqZoSZEX14lk"
   },
   "outputs": [],
   "source": [
    "positive_samples = train.merge(ranker_samples, on=[\"customer_id\", \"week\", \"article_id\"])[[\"t_dat\", \"customer_id\", \"article_id\", \"week\"]]\n",
    "positive_samples[\"label\"] = 1"
   ]
  },
  {
   "cell_type": "markdown",
   "metadata": {
    "id": "x-l3v9HSKam_"
   },
   "source": [
    "All other candidates that were not purchased are negatives:"
   ]
  },
  {
   "cell_type": "code",
   "execution_count": null,
   "metadata": {
    "id": "UZpRtKJn5UpS"
   },
   "outputs": [],
   "source": [
    "positive_key = positive_samples[['customer_id', 'week', 'article_id']].drop_duplicates()\n",
    "ranker_key = ranker_samples[['customer_id', 'week', 'article_id']].drop_duplicates()\n",
    "\n",
    "# Find negative samples (in ranker but not in positive)\n",
    "negative_samples = pd.merge(\n",
    "    ranker_key,\n",
    "    positive_key,\n",
    "    on=['customer_id', 'week', 'article_id'],\n",
    "    how='left',\n",
    "    indicator=True\n",
    ")\n",
    "\n",
    "# Filter to only keep samples not in positive\n",
    "negative_samples = negative_samples[negative_samples['_merge'] == 'left_only']\n",
    "\n",
    "# Drop the merge indicator column\n",
    "negative_samples = negative_samples.drop('_merge', axis=1)\n",
    "\n",
    "# Add label column with 0 (negative)\n",
    "negative_samples['label'] = 0"
   ]
  },
  {
   "cell_type": "markdown",
   "metadata": {
    "id": "kKCCPqZvKdAP"
   },
   "source": [
    "Finally, we concatenate a small subset of these negatives to avoid class imbalance:"
   ]
  },
  {
   "cell_type": "code",
   "execution_count": null,
   "metadata": {
    "id": "6rtNj6lUqUkM"
   },
   "outputs": [],
   "source": [
    "samples = pd.concat([positive_samples, negative_samples.sample(frac=0.2)]).drop(\"t_dat\", axis=1)"
   ]
  },
  {
   "cell_type": "markdown",
   "metadata": {
    "id": "o9Tt8HPzsgFE"
   },
   "source": [
    "# Feature Engineering"
   ]
  },
  {
   "cell_type": "markdown",
   "metadata": {
    "id": "7U_BxH3TskcW"
   },
   "source": [
    "Now that we’ve generated a set of candidate articles and labeled them as positive (purchased) or negative (not purchased), the next step is to create meaningful features that the ranking model can learn from.\n",
    "\n",
    "The goal of feature engineering in this context is to describe the relationship between a customer and a candidate article, using both demographic data, historical interactions, and item-level trends."
   ]
  },
  {
   "cell_type": "markdown",
   "metadata": {
    "id": "4w9JNcRILANy"
   },
   "source": [
    "**Customer-Article Interaction Features:**\n",
    "These features capture how aligned a candidate article is with a customer's historical preferences or profile.\n",
    "\n",
    "**1. Distance from Average Age**: We compute how far the customer's age deviates from the average age of customers who typically purchase this article in the previous week."
   ]
  },
  {
   "cell_type": "code",
   "execution_count": null,
   "metadata": {
    "id": "jruyArb_W8ng"
   },
   "outputs": [],
   "source": [
    "age_by_article = pd.merge(train, customers, on=\"customer_id\")\\\n",
    "  .groupby([\"week\", \"article_id\"])[\"age\"]\\\n",
    "  .mean()\\\n",
    "  .rename(\"average_age\")\\\n",
    "  .reset_index()\n",
    "\n",
    "average_age_by_article = {}\n",
    "for _, row in age_by_article.iterrows():\n",
    "  week, article_id, age = row\n",
    "  average_age_by_article[(article_id, week)] = age\n",
    "\n",
    "def distance_from_average_age(article_id, week, customer_age):\n",
    "  # note, need to go for last week, hence week - 1\n",
    "  if (article_id, week - 1) in average_age_by_article:\n",
    "    return customer_age - average_age_by_article[(article_id, week - 1)]\n",
    "  else:\n",
    "    return np.nan"
   ]
  },
  {
   "cell_type": "markdown",
   "metadata": {
    "id": "TIOGW-h1uk9s"
   },
   "source": [
    "**2. Time Since Last Purchase:** This feature reflects customer recency. How recently they interacted with the platform"
   ]
  },
  {
   "cell_type": "code",
   "execution_count": null,
   "metadata": {
    "id": "TMy1S-XzaS4Y"
   },
   "outputs": [],
   "source": [
    "temp = train[[\"customer_id\", \"week\"]].drop_duplicates()\n",
    "\n",
    "previous_purchase = defaultdict(list)\n",
    "for _, row in temp.iterrows():\n",
    "  customer_id, week = row\n",
    "  previous_purchase[customer_id].append(week)\n",
    "\n",
    "for key in previous_purchase:\n",
    "  previous_purchase[key] = sorted(previous_purchase[key], reverse=True)\n",
    "\n",
    "def time_since_last_purchase(customer_id, week):\n",
    "  for purchase in previous_purchase[customer_id]:\n",
    "    if purchase < week:\n",
    "      return week - purchase\n",
    "\n",
    "  return np.nan"
   ]
  },
  {
   "cell_type": "markdown",
   "metadata": {
    "id": "JRzl09nXed34"
   },
   "source": [
    "**3. Article/Customer Statistics:** For each article (and its corresponding product group and product code), we compute how many times the customer has purchased similar items in the last week.\n",
    "\n",
    "We also track global sales trends. How many times an article, product code, or product group sold last week across all customers. These provide context on the item’s popularity.\n",
    "\n"
   ]
  },
  {
   "cell_type": "code",
   "execution_count": null,
   "metadata": {
    "id": "lXKMnUwFC4R4"
   },
   "outputs": [],
   "source": [
    "# Load and merge data\n",
    "article_table = articles[[\"article_id\", \"product_code\", \"product_group_name\"]]\n",
    "article_features = pd.merge(train, article_table, on=\"article_id\")\n",
    "\n",
    "def counted_column(column, customer=False):\n",
    "    group_cols = [column, \"customer_id\", \"week\"] if customer else [column, \"week\"]\n",
    "    return article_features\\\n",
    "      .groupby(group_cols)\\\n",
    "      .size()\\\n",
    "      .reset_index(name=f\"{column}_sales\")\n",
    "\n",
    "# Helper function to create nested defaultdicts\n",
    "def create_nested_dict(depth=2, default_type=int):\n",
    "    if depth == 1:\n",
    "        return defaultdict(default_type)\n",
    "    return defaultdict(lambda: create_nested_dict(depth - 1, default_type))\n",
    "\n",
    "# Generate all sales and purchase mappings\n",
    "def generate_mappings(column):\n",
    "    # Sales data (without customer)\n",
    "    sales_data = counted_column(column)\n",
    "    sales_dict = create_nested_dict(depth=2)\n",
    "    for row in sales_data.itertuples(index=False):\n",
    "        sales_dict[row[0]][row[1]] = row[2]\n",
    "\n",
    "    # Purchase data (with customer)\n",
    "    purchase_data = counted_column(column, customer=True)\n",
    "    purchase_dict = create_nested_dict(depth=3)\n",
    "    for row in purchase_data.itertuples(index=False):\n",
    "        purchase_dict[row[0]][row[1]][row[2]] = row[3]\n",
    "\n",
    "    return sales_dict, purchase_dict\n",
    "\n",
    "# Generate all mappings\n",
    "article_sales, article_purchases = generate_mappings(\"article_id\")\n",
    "product_code_sales, product_code_purchases = generate_mappings(\"product_code\")\n",
    "product_group_sales, product_group_purchases = generate_mappings(\"product_group_name\")\n",
    "\n",
    "def mapping_function(dictionary, id, week, customer_id=None):\n",
    "  if week > 0:\n",
    "    if customer_id is not None:\n",
    "      return dictionary[id][customer_id][week - 1]\n",
    "    else:\n",
    "      return dictionary[id][week - 1]\n",
    "  else:\n",
    "    return np.nan"
   ]
  },
  {
   "cell_type": "markdown",
   "metadata": {
    "id": "DkaoPzCMrwQd"
   },
   "source": [
    "Now lets add the features to our dataset"
   ]
  },
  {
   "cell_type": "code",
   "execution_count": null,
   "metadata": {
    "id": "LzF22woFrynf"
   },
   "outputs": [],
   "source": [
    "def generate_features(samples):\n",
    "  customer_rows = samples[[\"article_id\", \"customer_id\", \"week\"]].drop_duplicates()\n",
    "  customer_rows = pd.merge(customer_rows, customers[[\"customer_id\", \"age\"]], on=\"customer_id\")\n",
    "\n",
    "  customer_rows[\"distance_from_average_age\"] = customer_rows.apply(\n",
    "      lambda x : distance_from_average_age(x[\"article_id\"], x[\"week\"], x[\"age\"]),\n",
    "      axis=1)\n",
    "\n",
    "  customer_rows[\"time_since_last_purchase\"] = customer_rows.apply(\n",
    "      lambda x : time_since_last_purchase(x[\"customer_id\"], x[\"week\"]),\n",
    "      axis=1)\n",
    "\n",
    "  customer_rows[\"last_week_article_purchases\"] = customer_rows.apply(\n",
    "      lambda x : mapping_function(article_purchases, x[\"article_id\"], x[\"week\"], customer_id=x[\"customer_id\"]),\n",
    "      axis=1)\n",
    "\n",
    "  customer_rows[\"last_week_product_purchases\"] = customer_rows.apply(\n",
    "      lambda x : mapping_function(product_code_purchases, x[\"article_id\"], x[\"week\"], customer_id=x[\"customer_id\"]),\n",
    "      axis=1)\n",
    "\n",
    "  customer_rows[\"last_week_group_purchases\"] = customer_rows.apply(\n",
    "      lambda x : mapping_function(product_group_purchases, x[\"article_id\"], x[\"week\"], customer_id=x[\"customer_id\"]),\n",
    "      axis=1)\n",
    "\n",
    "  article_weeks = samples[[\"article_id\", \"week\"]].drop_duplicates()\n",
    "  article_weeks = pd.merge(article_weeks,\n",
    "                          articles[[\"article_id\",\n",
    "                                    \"product_code\",\n",
    "                                    \"product_group_name\"]],\n",
    "                          on=\"article_id\")\n",
    "\n",
    "  article_weeks[\"last_week_article_sales\"] = article_weeks.apply(\n",
    "      lambda x : mapping_function(article_sales, x[\"article_id\"], x[\"week\"]),\n",
    "      axis=1\n",
    "  )\n",
    "\n",
    "  product_weeks = article_weeks[[\"product_code\", \"week\"]].drop_duplicates()\n",
    "  product_weeks[\"last_week_product_sales\"] = product_weeks.apply(\n",
    "      lambda x : mapping_function(product_code_sales, x[\"product_code\"], x[\"week\"]),\n",
    "      axis=1\n",
    "  )\n",
    "\n",
    "  group_weeks = article_weeks[[\"product_group_name\", \"week\"]].drop_duplicates()\n",
    "  group_weeks[\"last_week_group_sales\"] = group_weeks.apply(\n",
    "      lambda x : mapping_function(product_group_sales, x[\"product_group_name\"], x[\"week\"]),\n",
    "      axis=1\n",
    "  )\n",
    "\n",
    "  article_weeks = article_weeks.merge(product_weeks, on=[\"product_code\", \"week\"], how=\"left\")\\\n",
    "                              .merge(group_weeks, on=[\"product_group_name\", \"week\"], how=\"left\")\n",
    "\n",
    "  features = customer_rows.merge(article_weeks, on=[\"article_id\", \"week\"], how=\"left\")\n",
    "  features[\"article_percentage\"] = customer_rows[\"last_week_article_purchases\"] / article_weeks[\"last_week_article_sales\"]\n",
    "  features[\"product_percentage\"] = customer_rows[\"last_week_product_purchases\"] / article_weeks[\"last_week_product_sales\"]\n",
    "  features[\"group_percentage\"] = customer_rows[\"last_week_group_purchases\"] / article_weeks[\"last_week_group_sales\"]\n",
    "\n",
    "  samples = samples.merge(features, on=[\"customer_id\", \"article_id\", \"week\"], how=\"left\")\n",
    "  samples = samples.merge(articles, on=[\"article_id\", \"product_code\", \"product_group_name\"], how=\"left\")\n",
    "  samples = samples.merge(customers, on=[\"customer_id\", \"age\"], how=\"left\")\n",
    "\n",
    "  return samples"
   ]
  },
  {
   "cell_type": "code",
   "execution_count": null,
   "metadata": {
    "id": "cQDqbtOtFIxz"
   },
   "outputs": [],
   "source": [
    "samples_ = generate_features(samples)"
   ]
  },
  {
   "cell_type": "markdown",
   "metadata": {
    "id": "pKzgG8EMWRl1"
   },
   "source": [
    "# Ranking with LightGBM"
   ]
  },
  {
   "cell_type": "markdown",
   "metadata": {
    "id": "6RPlOMM8FWS8"
   },
   "source": [
    "With the labeled dataset prepared, we now train a learning-to-rank model using LightGBM with the `lambdarank` objective. This allows the model to learn relative ranking preferences. i.e., which items should be shown higher in the list for a given customer-week pair."
   ]
  },
  {
   "cell_type": "code",
   "execution_count": null,
   "metadata": {
    "id": "TnYVVMqKU767"
   },
   "outputs": [],
   "source": [
    "columns_to_use = ['article_id', 'label', 'age',\n",
    "                  'distance_from_average_age', 'time_since_last_purchase',\n",
    "                  'last_week_article_purchases', 'last_week_product_purchases',\n",
    "                  'last_week_group_purchases','last_week_article_sales',\n",
    "                  'last_week_product_sales', 'last_week_group_sales',\n",
    "                  'article_percentage', 'product_percentage',\n",
    "                  'group_percentage', 'graphical_appearance_name',\n",
    "                  'colour_group_name', 'perceived_colour_value_name',\n",
    "                  'perceived_colour_master_name', 'department_name',\n",
    "                  'index_name', 'index_group_name', 'section_name',\n",
    "                  'garment_group_name', 'detail_desc', 'FN', 'Active',\n",
    "                  'club_member_status', 'fashion_news_frequency', 'postal_code']\n",
    "\n",
    "categorical_cols = samples_[columns_to_use].select_dtypes(include=['object']).columns.tolist()\n",
    "\n",
    "for col in categorical_cols:\n",
    "  samples_[col] = samples_[col].astype('category')\n",
    "\n",
    "samples_ = samples_.sort_values([\"week\", \"customer_id\"])\n",
    "\n",
    "train_ = samples_[samples_.week != last_week].reset_index(drop=True)\n",
    "\n",
    "train_baskets = train_.groupby(['week', 'customer_id'], observed=True).size().values\n",
    "\n",
    "train_ = train_[columns_to_use]\n",
    "\n",
    "X_train = train_.drop(\"label\", axis=1)\n",
    "y_train = train_[\"label\"]"
   ]
  },
  {
   "cell_type": "markdown",
   "metadata": {
    "id": "_b7SUfkFFaSm"
   },
   "source": [
    "And we train the ranking algorithm"
   ]
  },
  {
   "cell_type": "code",
   "execution_count": null,
   "metadata": {
    "id": "a_7LwFrMWD9T"
   },
   "outputs": [],
   "source": [
    "from lightgbm.sklearn import LGBMRanker\n",
    "\n",
    "ranker = LGBMRanker(\n",
    "    objective=\"lambdarank\",\n",
    "    metric=\"ndcg\",\n",
    "    boosting_type=\"dart\",\n",
    "    n_estimators=100,\n",
    "    importance_type='gain',\n",
    "    verbose=10\n",
    ")\n",
    "\n",
    "ranker.fit(\n",
    "    X_train,\n",
    "    y_train,\n",
    "    group=train_baskets,\n",
    "    categorical_feature=categorical_cols\n",
    ")"
   ]
  },
  {
   "cell_type": "markdown",
   "metadata": {
    "id": "hZ7btULtFfR1"
   },
   "source": [
    "We prepare the recommender function."
   ]
  },
  {
   "cell_type": "code",
   "execution_count": null,
   "metadata": {
    "id": "lfNyG5afDg8h"
   },
   "outputs": [],
   "source": [
    "def lgbm_recommender(customer_ids, k=12, week=last_week):\n",
    "    candidate_df = pd.DataFrame({\n",
    "        'customer_id': customer_ids,\n",
    "        'week': week\n",
    "    })\n",
    "\n",
    "    candidate_df['article_id'] = \\\n",
    "      candidate_df[\"customer_id\"].apply(lambda x : generate_recommendations(x, week, k=100))\n",
    "\n",
    "    candidate_df = candidate_df.explode(\"article_id\")\n",
    "\n",
    "    candidate_df = generate_features(candidate_df)\n",
    "\n",
    "    columns_to_use = ['article_id', 'age',\n",
    "                      'distance_from_average_age', 'time_since_last_purchase',\n",
    "                      'last_week_article_purchases', 'last_week_product_purchases',\n",
    "                      'last_week_group_purchases','last_week_article_sales',\n",
    "                      'last_week_product_sales', 'last_week_group_sales',\n",
    "                      'article_percentage', 'product_percentage',\n",
    "                      'group_percentage', 'graphical_appearance_name',\n",
    "                      'colour_group_name', 'perceived_colour_value_name',\n",
    "                      'perceived_colour_master_name', 'department_name',\n",
    "                      'index_name', 'index_group_name', 'section_name',\n",
    "                      'garment_group_name', 'detail_desc', 'FN', 'Active',\n",
    "                      'club_member_status', 'fashion_news_frequency', 'postal_code']\n",
    "\n",
    "    X_pred = candidate_df[columns_to_use].copy()\n",
    "\n",
    "    # Note that this code depends on external variables categorical_cols and X_train\n",
    "    for col in categorical_cols:\n",
    "      X_pred[col] = pd.Categorical(\n",
    "          X_pred[col],\n",
    "          categories=X_train[col].cat.categories\n",
    "      )\n",
    "\n",
    "    X_pred[\"scores\"] = ranker.predict(X_pred)\n",
    "    X_pred[\"customer_id\"] = candidate_df[\"customer_id\"]\n",
    "    return X_pred.sort_values(\"scores\", ascending=False)\\\n",
    "              .groupby(\"customer_id\")\\\n",
    "              .head(12)[[\"customer_id\", \"article_id\"]].reset_index(drop=True)\\\n",
    "              .groupby(\"customer_id\").agg(list).reset_index()\n"
   ]
  },
  {
   "cell_type": "markdown",
   "metadata": {
    "id": "0YNT_jTjFn6B"
   },
   "source": [
    "And we calculate the MAP@K"
   ]
  },
  {
   "cell_type": "code",
   "execution_count": null,
   "metadata": {
    "id": "kZ7ZqVv7sevj"
   },
   "outputs": [],
   "source": [
    "def mapk_ext(recommender: callable, valid_gt: pd.DataFrame, k: int = 12) -> float:\n",
    "    df = valid_gt.copy()\n",
    "    recommendations = recommender(df[\"customer\"].unique(), k=k)\n",
    "    recommendations.columns = [\"customer\", \"recommendations\"]\n",
    "    df = df.merge(recommendations, on=\"customer\")\n",
    "\n",
    "    df[\"average_precision\"] = df.apply(\n",
    "        lambda x: apk(x[\"recommendations\"], x[\"purchased\"], k=k),\n",
    "        axis=1\n",
    "    )\n",
    "\n",
    "    return float(df.average_precision.mean())\n"
   ]
  },
  {
   "cell_type": "code",
   "execution_count": null,
   "metadata": {
    "colab": {
     "base_uri": "https://localhost:8080/"
    },
    "id": "iAFtl2iDvyF4",
    "outputId": "fb96976c-36d8-4e14-ce01-f3da2e10f27f"
   },
   "outputs": [
    {
     "data": {
      "text/plain": [
       "0.0026203793318178067"
      ]
     },
     "execution_count": 194,
     "metadata": {},
     "output_type": "execute_result"
    }
   ],
   "source": [
    "mapk_ext(lgbm_recommender, ground_truth)"
   ]
  },
  {
   "cell_type": "code",
   "execution_count": null,
   "metadata": {
    "id": "K14r9Al134WV"
   },
   "outputs": [],
   "source": []
  }
 ],
 "metadata": {
  "colab": {
   "include_colab_link": true,
   "machine_shape": "hm",
   "provenance": [],
   "toc_visible": true
  },
  "kernelspec": {
   "display_name": "Python 3 (ipykernel)",
   "language": "python",
   "name": "python3"
  },
  "language_info": {
   "codemirror_mode": {
    "name": "ipython",
    "version": 3
   },
   "file_extension": ".py",
   "mimetype": "text/x-python",
   "name": "python",
   "nbconvert_exporter": "python",
   "pygments_lexer": "ipython3",
   "version": "3.12.11"
  }
 },
 "nbformat": 4,
 "nbformat_minor": 4
}
