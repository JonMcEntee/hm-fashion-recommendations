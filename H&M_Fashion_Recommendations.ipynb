{
  "nbformat": 4,
  "nbformat_minor": 0,
  "metadata": {
    "colab": {
      "provenance": [],
      "toc_visible": true,
      "machine_shape": "hm",
      "include_colab_link": true
    },
    "kernelspec": {
      "name": "python3",
      "display_name": "Python 3"
    },
    "language_info": {
      "name": "python"
    }
  },
  "cells": [
    {
      "cell_type": "markdown",
      "metadata": {
        "id": "view-in-github",
        "colab_type": "text"
      },
      "source": [
        "<a href=\"https://colab.research.google.com/github/JonMcEntee/hm-fashion-recommendations/blob/main/H%26M_Fashion_Recommendations.ipynb\" target=\"_parent\"><img src=\"https://colab.research.google.com/assets/colab-badge.svg\" alt=\"Open In Colab\"/></a>"
      ]
    },
    {
      "cell_type": "code",
      "source": [
        "!pip install implicit"
      ],
      "metadata": {
        "colab": {
          "base_uri": "https://localhost:8080/"
        },
        "id": "zh7r25PSqG2N",
        "outputId": "1a35e976-8ac3-4be9-cb36-34d3cb7de050"
      },
      "execution_count": 1,
      "outputs": [
        {
          "output_type": "stream",
          "name": "stdout",
          "text": [
            "Requirement already satisfied: implicit in /usr/local/lib/python3.11/dist-packages (0.7.2)\n",
            "Requirement already satisfied: numpy>=1.17.0 in /usr/local/lib/python3.11/dist-packages (from implicit) (2.0.2)\n",
            "Requirement already satisfied: scipy>=0.16 in /usr/local/lib/python3.11/dist-packages (from implicit) (1.15.3)\n",
            "Requirement already satisfied: tqdm>=4.27 in /usr/local/lib/python3.11/dist-packages (from implicit) (4.67.1)\n",
            "Requirement already satisfied: threadpoolctl in /usr/local/lib/python3.11/dist-packages (from implicit) (3.6.0)\n"
          ]
        }
      ]
    },
    {
      "cell_type": "code",
      "source": [
        "from datetime import datetime, timedelta\n",
        "from collections import defaultdict\n",
        "from functools import partial\n",
        "from implicit.als import AlternatingLeastSquares\n",
        "\n",
        "import pandas as pd\n",
        "import numpy as np\n",
        "import matplotlib.pyplot as plt\n",
        "import seaborn as sns\n",
        "import scipy.sparse as sp\n",
        "import implicit\n",
        "import random\n",
        "\n",
        "random_seed = 42"
      ],
      "metadata": {
        "id": "GSlvH4mhZHS6"
      },
      "execution_count": 2,
      "outputs": []
    },
    {
      "cell_type": "code",
      "source": [
        "# Mount into drive\n",
        "from google.colab import drive\n",
        "drive.mount(\"/content/drive\")"
      ],
      "metadata": {
        "colab": {
          "base_uri": "https://localhost:8080/"
        },
        "id": "aJ9uLkinY2EG",
        "outputId": "b914f031-94fe-489e-d5a1-0d1ce3bd7eb9"
      },
      "execution_count": 3,
      "outputs": [
        {
          "output_type": "stream",
          "name": "stdout",
          "text": [
            "Drive already mounted at /content/drive; to attempt to forcibly remount, call drive.mount(\"/content/drive\", force_remount=True).\n"
          ]
        }
      ]
    },
    {
      "cell_type": "markdown",
      "source": [
        "# H&M Fashion Recommendations\n",
        "\n",
        "This notebook details my approach to Kaggle's [H&M Personalized Fashion Recommendations](https://www.kaggle.com/competitions/h-and-m-personalized-fashion-recommendations/overview) competition, focused on predicting customers' next fashion purchases. With vast product selections becoming standard in retail, delivering precisely tailored suggestions is key to enhancing shopping experiences and brand loyalty in modern fashion commerce."
      ],
      "metadata": {
        "id": "V1MyJtmsqzTY"
      }
    },
    {
      "cell_type": "markdown",
      "source": [
        "# Summary (TL;DR)\n",
        "This notebook explores methods for building a personalized product recommendation system on transaction data from the H&M fashion retail dataset. Below is a summary of the workflow and findings:\n",
        "\n",
        " - **Goal**: Predict which fashion items a customer is most likely to purchase next, based on historical transaction data.\n",
        " - **Dataset Used**:\n",
        "  - H&M Kaggle competition dataset:\n",
        "    - `transactions_train.csv`: Customer purchase history with timestamps\n",
        "    - `articles.csv`: Metadata for fashion products\n",
        "    - `customers.csv`: Demographic and behavioral customer data\n",
        " - **Baseline Approach**: Filter and return items based on global popularity\n",
        " - **ALS Model (Collaborative Filtering)**\n",
        "  - Implemented using the `implicit` library's Alternating Least Squares (ALS) algorithm\n",
        "  - Trains latent embeddings for customers and articles by factorizing the interaction matrix\n",
        " - **Ranking and Recommendation Strategy**\n",
        "  - System generates a top-N list of recommendations per customer\n",
        "  - Recommendations are ranked by predicted relevance scores from the model\n",
        " - **Results**\n",
        "  - ALS provided personalized product suggestions aligned with recent customer behavior"
      ],
      "metadata": {
        "id": "cb5oL9UURrod"
      }
    },
    {
      "cell_type": "markdown",
      "source": [
        "# Evaluation Metrics"
      ],
      "metadata": {
        "id": "oY92jrL2GN0X"
      }
    },
    {
      "cell_type": "markdown",
      "source": [
        "To evaluate our recommendations, we use Mean Average Precision at 12 (MAP@12), which is aligned with the competition's evaluation metric. It captures both the relevance and ranking of recommended items.\n",
        "\n",
        "$$\\text{MAP}@12 = \\frac{1}{U} \\sum_{u=1}^{U} \\frac{1}{\\min(m, 12)} \\sum_{k=1}^{12} P(k) \\cdot \\text{rel}(k)$$"
      ],
      "metadata": {
        "id": "bxNiKn72GMS-"
      }
    },
    {
      "cell_type": "code",
      "source": [
        "def mapk(recommender, test, k=12):\n",
        "    \"\"\"\n",
        "    Computes Mean Average Precision at K (MAP@K) for a recommendation system.\n",
        "\n",
        "    Parameters:\n",
        "    ----------\n",
        "    recommender : function\n",
        "        A function that takes a list of customer IDs and returns a DataFrame\n",
        "        with columns ['customer_id', 'rank', 'recommendation'] where rank\n",
        "        ranges from 1 to K.\n",
        "\n",
        "    test : pd.DataFrame\n",
        "        A DataFrame containing actual purchases with at least two columns:\n",
        "        'customer_id' and 'article_id'.\n",
        "\n",
        "    k : int, default=12\n",
        "        The number of top recommendations to consider for each customer.\n",
        "\n",
        "    Returns:\n",
        "    -------\n",
        "    float\n",
        "        The MAP@K score.\n",
        "    \"\"\"\n",
        "\n",
        "    # Extract unique customers from the test set\n",
        "    customers = test['customer_id'].unique()\n",
        "\n",
        "    # Build dictionary of actual purchased items per customer\n",
        "    actuals = (\n",
        "        test[test['customer_id'].isin(customers)][['customer_id', 'article_id']]\n",
        "        .groupby('customer_id')['article_id']\n",
        "        .apply(set)\n",
        "        .to_dict()\n",
        "    )\n",
        "\n",
        "    # Get recommendations from the model\n",
        "    predictions = recommender(customers)\n",
        "\n",
        "    # Pivot to create a customer x rank matrix of recommended items\n",
        "    pred_matrix = (\n",
        "        predictions.pivot(index='customer_id', columns='rank', values='recommendation')\n",
        "        .reindex(customers)\n",
        "        .values\n",
        "    )\n",
        "\n",
        "    # Build list of actual purchases in the same order as customer list\n",
        "    actuals_list = [actuals.get(cust_id, set()) for cust_id in customers]\n",
        "\n",
        "    # Create binary hit matrix: 1 if recommended item is in actual purchases\n",
        "    hit_matrix = np.zeros_like(pred_matrix, dtype=np.float32)\n",
        "    for i, row in enumerate(pred_matrix):\n",
        "        hit_matrix[i] = [item in actuals_list[i] for item in row]\n",
        "\n",
        "    # Compute cumulative hits and precision at each rank\n",
        "    cumsum_hits = np.cumsum(hit_matrix, axis=1)\n",
        "    inv_ranks = 1 / np.arange(1, k + 1)\n",
        "    precisions = hit_matrix * (cumsum_hits * inv_ranks)\n",
        "\n",
        "    # Avoid division by zero by ensuring actual length is at least 1\n",
        "    actuals_length = np.fromiter(\n",
        "        (len(a) if a else 1 for a in actuals_list), dtype=np.int32, count=len(actuals_list)\n",
        "    )\n",
        "\n",
        "    # Compute Average Precision per customer\n",
        "    ap_per_customer = precisions.sum(axis=1) / np.minimum(k, actuals_length)\n",
        "\n",
        "    # Return mean over all customers\n",
        "    return float(np.mean(ap_per_customer))"
      ],
      "metadata": {
        "id": "sGPr0BIcGMTA"
      },
      "execution_count": 40,
      "outputs": []
    },
    {
      "cell_type": "markdown",
      "source": [
        "# **Data Loading and Preprocessing**"
      ],
      "metadata": {
        "id": "KwW4jsd9WEnm"
      }
    },
    {
      "cell_type": "code",
      "execution_count": 5,
      "metadata": {
        "id": "BXpmj3LEqvkk"
      },
      "outputs": [],
      "source": [
        "directory = \"./drive/My Drive/h-and-m-personalized-fashion-recommendations/\"\n",
        "articles = pd.read_csv(directory + \"articles.csv\")\n",
        "customers = pd.read_csv(directory + \"customers.csv\")\n",
        "transactions = pd.read_csv(directory + \"transactions_train.csv\",\n",
        "                           parse_dates=['t_dat'])\\\n",
        "                 .sample(frac=0.01, random_state=random_seed)"
      ]
    },
    {
      "cell_type": "code",
      "source": [
        "# add week column\n",
        "total_weeks = (transactions.t_dat.max() - transactions.t_dat.min()).days // 7 # 104\n",
        "transactions['week'] = total_weeks - (transactions.t_dat.max() - transactions.t_dat).dt.days // 7"
      ],
      "metadata": {
        "id": "jearJNJBTXtG"
      },
      "execution_count": 6,
      "outputs": []
    },
    {
      "cell_type": "markdown",
      "source": [
        "Before modeling, we divide the dataset into training and testing subsets. This allows us to simulate a real-world recommendation scenario where predictions are made on unseen data."
      ],
      "metadata": {
        "id": "MVWXdxp3Tc04"
      }
    },
    {
      "cell_type": "code",
      "source": [
        "test_start = datetime(2020, 9, 16)\n",
        "train = transactions[transactions.week < total_weeks].reset_index(drop=True)\n",
        "test = transactions[transactions.week == total_weeks].reset_index(drop=True)\n",
        "\n",
        "# add time decay column\n",
        "train[\"time_decay\"] = train[\"t_dat\"].apply(lambda x : 1 / (test_start - x).days)\n",
        "\n",
        "ground_truth = (\n",
        "  test[[\"customer_id\", \"article_id\"]]\n",
        "  .drop_duplicates()\n",
        "  .groupby('customer_id')['article_id']\n",
        "  .apply(list)\n",
        "  .reset_index()\n",
        ")\n",
        "\n",
        "ground_truth.columns = [\"customer\", \"purchased\"]\n",
        "\n",
        "fitset = transactions[transactions.week < total_weeks - 1].reset_index(drop=True)\n",
        "validation = transactions[transactions.week == total_weeks - 1].reset_index(drop=True)\n",
        "\n",
        "validation_truth = (\n",
        "  test[[\"customer_id\", \"article_id\"]]\n",
        "  .drop_duplicates()\n",
        "  .groupby('customer_id')['article_id']\n",
        "  .apply(list)\n",
        "  .reset_index()\n",
        ")\n",
        "\n",
        "validation_truth.columns = [\"customer\", \"purchased\"]"
      ],
      "metadata": {
        "id": "-5p3v5ifTXtH"
      },
      "execution_count": 7,
      "outputs": []
    },
    {
      "cell_type": "markdown",
      "source": [
        "**Key Data Files**  \n",
        "\n",
        "1. **`articles.csv`**  \n",
        "   - Contains detailed metadata for **105,542 unique fashion articles**, including:  \n",
        "     - `article_id`: Unique identifier for each product.  \n",
        "     - `product_code`, `prod_name`: Product identifiers and descriptions.  \n",
        "     - `product_type_no`, `product_type_name`: Numerical and textual product categories.  \n",
        "     - `product_group_name`: Broad category (e.g., \"Garment Upper body\").  \n",
        "     - Visual attributes: `colour_group_name`, `perceived_colour_value_name`, `perceived_colour_master_name`\n",
        "\n",
        "2. **`customers.csv`**  \n",
        "   - Profiles **1,371,980 unique customers** with:  \n",
        "     - `customer_id`: Unique identifier.  \n",
        "     - `FN` (binary): Indicates if the customer subscribed to H&M’s fashion news.  \n",
        "     - `Active` (binary): Customer activity status.  \n",
        "     - `club_member_status`: Loyalty program status.  \n",
        "     - `fashion_news_frequency`: Categorical. Level of engagement with H&M’s newsletters.  \n",
        "     - `age`: Customer age.\n",
        "     - `postal_code`: Location data.\n",
        "\n",
        "3. **`transactions_train.csv`**  \n",
        "   - Records **31,788,324 historical transactions** (Sept 2018–Sept 2020) with:  \n",
        "     - `t_dat`: Transaction date.  \n",
        "     - `customer_id`: Links to `customers.csv`.  \n",
        "     - `article_id`: Links to `articles.csv`.  \n",
        "     - `price`: Purchase price.\n",
        "     - `sales_channel_id`: Online (1) vs. in-store (2) purchases.  \n",
        "4. **`images/*.jpg`**\n",
        "     - **105,104** jpeg images\n",
        "      - images of each product (potential for computer vision analysis)\n"
      ],
      "metadata": {
        "id": "LFze2pU9tEmk"
      }
    },
    {
      "cell_type": "markdown",
      "source": [
        "# Exploratory Data Analysis"
      ],
      "metadata": {
        "id": "AKg1qt4tOPza"
      }
    },
    {
      "cell_type": "markdown",
      "source": [
        "To understand purchasing trends, I merged transaction data with article details (product type and group) and analyzed the distribution of sales across different product categories.  "
      ],
      "metadata": {
        "id": "Ez_c6YaKtN9Y"
      }
    },
    {
      "cell_type": "code",
      "source": [
        "article_details = pd.merge(transactions,\n",
        "                           articles[[\"article_id\",\n",
        "                                     \"product_type_name\",\n",
        "                                     \"product_group_name\"]],\n",
        "                           how=\"left\", on=\"article_id\")\n",
        "\n",
        "product_types = article_details.groupby(\"product_type_name\")\\\n",
        "  .size()\\\n",
        "  .sort_values(ascending=False)\\\n",
        "  .reset_index(name='count')\n",
        "\n",
        "product_groups = article_details.groupby(\"product_group_name\")\\\n",
        "  .size()\\\n",
        "  .sort_values(ascending=False)\\\n",
        "  .reset_index(name='count')\n",
        "\n",
        "del article_details"
      ],
      "metadata": {
        "id": "SiB-FZjgNM6o"
      },
      "execution_count": null,
      "outputs": []
    },
    {
      "cell_type": "markdown",
      "source": [
        "The bar plot below highlights the top 40 product types by sales volume. Trousers dominate, followed by other upper-body garments like T-shirts and sweaters. This insight can guide inventory prioritization and recommendation strategies."
      ],
      "metadata": {
        "id": "7lxNKRaTkKJ_"
      }
    },
    {
      "cell_type": "code",
      "source": [
        "plt.figure(figsize=(9, 5))\n",
        "num_categories=40\n",
        "custom_palette = sns.color_palette('Blues', num_categories + 20)[20:][::-1]\n",
        "g = sns.barplot(\n",
        "    product_types.head(num_categories),\n",
        "    x = \"product_type_name\",\n",
        "    y = \"count\",\n",
        "    hue=\"product_type_name\",\n",
        "    palette=custom_palette,\n",
        "    dodge=False)\n",
        "\n",
        "g.tick_params(axis='x', labelrotation=80, labelsize=8)\n",
        "\n",
        "g.set_xlabel(\"\")\n",
        "g.set_ylabel(\"\")\n",
        "g.set_title(\"Top Sellers by Product Type\", fontweight='bold', pad=10)\n",
        "sns.despine(left=True)\n",
        "plt.tight_layout()"
      ],
      "metadata": {
        "colab": {
          "base_uri": "https://localhost:8080/",
          "height": 507
        },
        "id": "69xEumgqPGFN",
        "outputId": "0f32242c-d533-4b99-cb6f-1de648c6c38e"
      },
      "execution_count": null,
      "outputs": [
        {
          "output_type": "display_data",
          "data": {
            "text/plain": [
              "<Figure size 900x500 with 1 Axes>"
            ],
            "image/png": "[encoded data removed]"
          },
          "metadata": {}
        }
      ]
    },
    {
      "cell_type": "code",
      "source": [
        "plt.figure(figsize=(8, 5))\n",
        "num_categories=10\n",
        "custom_palette = sns.color_palette('Greens', num_categories + 6)[6:][::-1]\n",
        "g = sns.barplot(product_groups.head(num_categories), x = \"product_group_name\", y = \"count\", hue=\"product_group_name\", palette=custom_palette)\n",
        "\n",
        "total = product_groups['count'].sum()\n",
        "\n",
        "for p in g.patches:\n",
        "    height = p.get_height()\n",
        "    percentage = '{:.1f}%'.format(100 * height/total)\n",
        "    g.text(p.get_x() + p.get_width()/2. + 0.04,\n",
        "           height,\n",
        "           percentage,\n",
        "           ha='center',\n",
        "           va='bottom',\n",
        "           fontsize=10)\n",
        "\n",
        "g.tick_params(axis='x', labelrotation=80, labelsize=10, size=0);\n",
        "shift_amount = -0.07\n",
        "new_xticks = [x + shift_amount for x in g.get_xticks()]\n",
        "g.set_xticks(new_xticks)\n",
        "\n",
        "g.set_xlabel(\"\")\n",
        "g.set_ylabel(\"\")\n",
        "g.set_title(\"Top Sellers by Product Group\", fontweight='bold', pad=10)\n",
        "g.axes.yaxis.set_visible(False)\n",
        "sns.despine(left=True, bottom=True)\n",
        "plt.tight_layout()"
      ],
      "metadata": {
        "colab": {
          "base_uri": "https://localhost:8080/",
          "height": 507
        },
        "id": "3J16CyhPTB5s",
        "outputId": "053a02dd-e42a-4938-c787-b977d932fda8"
      },
      "execution_count": null,
      "outputs": [
        {
          "output_type": "display_data",
          "data": {
            "text/plain": [
              "<Figure size 800x500 with 1 Axes>"
            ],
            "image/png": "[encoded data removed]"
          },
          "metadata": {}
        }
      ]
    },
    {
      "cell_type": "markdown",
      "source": [
        "Purchase volume over time appears relatively stable, showing no clear upward or downward trend."
      ],
      "metadata": {
        "id": "HeY1ZZ3NlBXt"
      }
    },
    {
      "cell_type": "code",
      "source": [
        "plt.figure(figsize=(8, 5))\n",
        "g = sns.histplot(transactions,\n",
        "                 x = \"t_dat\",\n",
        "                 edgecolor=None,\n",
        "                 bins=100)\n",
        "\n",
        "g.set_ylabel('', labelpad=0)\n",
        "g.set_xlabel(\"Date\")\n",
        "g.set_title(\"Distribution of Data Over Time\", fontweight=\"bold\");\n",
        "# g.tick_params(axis='x', labelrotation=80, labelsize=10);\n",
        "\n",
        "sns.despine()"
      ],
      "metadata": {
        "colab": {
          "base_uri": "https://localhost:8080/",
          "height": 487
        },
        "id": "PxDgRUO3VnJL",
        "outputId": "5684e2b1-e317-4eda-8aa0-351541499d83"
      },
      "execution_count": null,
      "outputs": [
        {
          "output_type": "display_data",
          "data": {
            "text/plain": [
              "<Figure size 800x500 with 1 Axes>"
            ],
            "image/png": "[encoded data removed]"
          },
          "metadata": {}
        }
      ]
    },
    {
      "cell_type": "markdown",
      "source": [
        "The majority of customers in the dataset have made at least one purchase, enabling the development of personalized recommendation models based on past behavior. However, for customers with limited or no transaction history, cold-start strategies (e.g., demographic-based or popularity-based recommendations) will be essential to provide meaningful suggestions."
      ],
      "metadata": {
        "id": "DOHRg5tE3rO0"
      }
    },
    {
      "cell_type": "code",
      "source": [
        "transaction_count = transactions\\\n",
        "  .groupby(\"customer_id\")\\\n",
        "  .size()\\\n",
        "  .reset_index(name=\"count\")\\\n",
        "  .groupby(\"count\")\\\n",
        "  .size()\\\n",
        "  .reset_index(name=\"customers\")\n",
        "\n",
        "no_transactions = customers[\n",
        "    ~customers[\"customer_id\"].isin(transactions[\"customer_id\"])]\n",
        "\n",
        "transaction_count = pd.concat([\n",
        "      pd.DataFrame([{\n",
        "          \"count\": 0,\n",
        "          \"customers\": len(no_transactions)\n",
        "      }]),\n",
        "      transaction_count\n",
        "    ],\n",
        "    ignore_index=True\n",
        ")\n",
        "\n",
        "bins = [0, 1, 2, 3, 5, 10, 50, 100, 200, np.inf]\n",
        "labels = ['0', '1', '2', '3-4', '5-9', '10-49', '50-99', '100-199', '200+']\n",
        "\n",
        "transaction_count['count_bin'] = pd.cut(transaction_count['count'],\n",
        "                                        bins=bins,\n",
        "                                        labels=labels,\n",
        "                                        right=False,\n",
        "                                        include_lowest=True)\n",
        "\n",
        "transaction_bins = transaction_count.groupby('count_bin', observed=True)['customers'].sum().reset_index()"
      ],
      "metadata": {
        "id": "1T0CrRPTqAv3"
      },
      "execution_count": null,
      "outputs": []
    },
    {
      "cell_type": "code",
      "source": [
        "plt.figure(figsize=(8, 5))\n",
        "num_categories=len(transaction_bins)\n",
        "custom_palette = sns.color_palette('Reds', num_categories + 6)[6:][::-1]\n",
        "g = sns.barplot(transaction_bins,\n",
        "                x = \"count_bin\",\n",
        "                y = \"customers\",\n",
        "                hue=\"count_bin\",\n",
        "                palette=custom_palette)\n",
        "g.tick_params(axis='x', labelsize=10, length=0);\n",
        "\n",
        "total = transaction_bins['customers'].sum()\n",
        "\n",
        "for p in g.patches:\n",
        "    height = p.get_height()\n",
        "    percentage = '{:.1f}%'.format(100 * height/total)\n",
        "    g.text(p.get_x() + p.get_width()/2. + 0.05,\n",
        "           height,\n",
        "           percentage,\n",
        "           ha='center',\n",
        "           va='bottom',\n",
        "           fontsize=10)\n",
        "\n",
        "g.axes.yaxis.set_visible(False)\n",
        "g.set_xlabel(\"Number of Purchases\")\n",
        "g.set_ylabel(\"Number of Customers\")\n",
        "g.set_title(\"Number of Products Bought Per Customer\", fontweight='bold', pad=10)\n",
        "sns.despine(left=True, bottom=True)\n",
        "plt.tight_layout()"
      ],
      "metadata": {
        "colab": {
          "base_uri": "https://localhost:8080/",
          "height": 506
        },
        "id": "oNEImoX0yFyw",
        "outputId": "5d7c3c2c-0ef6-4f9c-eccb-5461c5051ba6"
      },
      "execution_count": null,
      "outputs": [
        {
          "output_type": "display_data",
          "data": {
            "text/plain": [
              "<Figure size 800x500 with 1 Axes>"
            ],
            "image/png": "[encoded data removed]"
          },
          "metadata": {}
        }
      ]
    },
    {
      "cell_type": "markdown",
      "source": [
        " Analysis of the customer age distribution indicates a clear skew toward younger demographics. This trend may reflect H&M’s brand positioning and marketing efforts and should be considered when tailoring recommendation strategies to align with customer preferences."
      ],
      "metadata": {
        "id": "rerutimFU255"
      }
    },
    {
      "cell_type": "code",
      "source": [
        "age_count = customers.groupby(\"age\").size().reset_index(name=\"count\")\n",
        "\n",
        "bins = [0, 20, 25, 30, 35, 40, 45, 50, 55, 60, 65, 70, 75, np.inf]\n",
        "labels = ['16-19', '20-24', '25-29', '30-34', '34-39', '40-44', '45-49',\n",
        "          '50-54', '55-59', '60-64', '65-69', '70-74', '75+']\n",
        "\n",
        "age_count[\"bin\"] = pd.cut(age_count[\"age\"],\n",
        "                          bins=bins,\n",
        "                          labels=labels,\n",
        "                          right=False,\n",
        "                          include_lowest=True)\n",
        "\n",
        "age_bin = age_count.groupby('bin', observed=True)['count'].sum().reset_index()"
      ],
      "metadata": {
        "id": "MgUPga4QJI0x"
      },
      "execution_count": null,
      "outputs": []
    },
    {
      "cell_type": "code",
      "source": [
        "plt.figure(figsize=(8, 5))\n",
        "num_categories=len(age_bin)\n",
        "custom_palette = sns.color_palette('Blues', num_categories + 10)[10:][::-1]\n",
        "g = sns.barplot(age_bin,\n",
        "                x = \"bin\",\n",
        "                y = \"count\",\n",
        "                hue=\"bin\",\n",
        "                palette=custom_palette)\n",
        "g.tick_params(axis='x', labelsize=10, length=0);\n",
        "\n",
        "total = age_bin['count'].sum()\n",
        "\n",
        "for p in g.patches:\n",
        "    height = p.get_height()\n",
        "    percentage = '{:.1f}%'.format(100 * height/total)\n",
        "    g.text(p.get_x() + p.get_width()/2. + 0.04,\n",
        "           height,\n",
        "           percentage,\n",
        "           ha='center',\n",
        "           va='bottom',\n",
        "           fontsize=9)\n",
        "\n",
        "g.axes.yaxis.set_visible(False)\n",
        "g.set_xlabel(\"Age Range\")\n",
        "g.set_ylabel(\"Number of Purchases\")\n",
        "g.set_title(\"Customer Percentage by Age Category\", fontweight='bold', pad=10)\n",
        "sns.despine(left=True, bottom=True)\n",
        "plt.tight_layout()"
      ],
      "metadata": {
        "colab": {
          "base_uri": "https://localhost:8080/",
          "height": 506
        },
        "id": "2gG3mvagKyYs",
        "outputId": "dea352f1-e797-49c3-c67c-718f24e0f27e"
      },
      "execution_count": null,
      "outputs": [
        {
          "output_type": "display_data",
          "data": {
            "text/plain": [
              "<Figure size 800x500 with 1 Axes>"
            ],
            "image/png": "[encoded data removed]"
          },
          "metadata": {}
        }
      ]
    },
    {
      "cell_type": "markdown",
      "source": [
        "This age-related trend extends to purchasing behavior, where younger customers also account for a higher percentage of total transactions. Models may benefit from age-group segmentation to enhance prediction accuracy by capturing generational shopping patterns."
      ],
      "metadata": {
        "id": "v97HTkFVVBQ9"
      }
    },
    {
      "cell_type": "code",
      "source": [
        "customer_purchases = pd.merge(transactions,\n",
        "                              customers,\n",
        "                              how=\"left\", on=\"customer_id\")\n",
        "\n",
        "bins = [0, 20, 25, 30, 35, 40, 45, 50, 55, 60, 65, 70, 75, np.inf]\n",
        "labels = ['16-19', '20-24', '25-29', '30-34', '34-39', '40-44', '45-49',\n",
        "          '50-54', '55-59', '60-64', '65-69', '70-74', '75+']\n",
        "\n",
        "customer_purchases[\"bin\"] = pd.cut(customer_purchases[\"age\"],\n",
        "                                   bins=bins,\n",
        "                                   labels=labels,\n",
        "                                   right=False,\n",
        "                                   include_lowest=True)\n",
        "\n",
        "purchase_bin = customer_purchases.groupby('bin', observed=True).size().reset_index(name=\"count\")"
      ],
      "metadata": {
        "id": "DxpEB-CsNGqc"
      },
      "execution_count": null,
      "outputs": []
    },
    {
      "cell_type": "code",
      "source": [
        "plt.figure(figsize=(8, 5))\n",
        "num_categories=len(purchase_bin)\n",
        "custom_palette = sns.color_palette('Greens', num_categories + 10)[10:][::-1]\n",
        "g = sns.barplot(purchase_bin,\n",
        "                x = \"bin\",\n",
        "                y = \"count\",\n",
        "                hue=\"bin\",\n",
        "                palette=custom_palette)\n",
        "g.tick_params(axis='x', labelsize=10, length=0);\n",
        "\n",
        "total = purchase_bin['count'].sum()\n",
        "\n",
        "for p in g.patches:\n",
        "    height = p.get_height()\n",
        "    percentage = '{:.1f}%'.format(100 * height/total)\n",
        "    g.text(p.get_x() + p.get_width()/2. + 0.04,\n",
        "           height,\n",
        "           percentage,\n",
        "           ha='center',\n",
        "           va='bottom',\n",
        "           fontsize=9)\n",
        "\n",
        "g.axes.yaxis.set_visible(False)\n",
        "g.set_xlabel(\"Age Range\")\n",
        "g.set_ylabel(\"Number of Purchases\")\n",
        "g.set_title(\"Product Purchases Percentage by Age Category\", fontweight='bold', pad=10)\n",
        "sns.despine(left=True, bottom=True)\n",
        "plt.tight_layout()"
      ],
      "metadata": {
        "colab": {
          "base_uri": "https://localhost:8080/",
          "height": 506
        },
        "id": "unyFFnnnURA5",
        "outputId": "136210d7-c8df-4c62-f14d-6954c9335249"
      },
      "execution_count": null,
      "outputs": [
        {
          "output_type": "display_data",
          "data": {
            "text/plain": [
              "<Figure size 800x500 with 1 Axes>"
            ],
            "image/png": "[encoded data removed]"
          },
          "metadata": {}
        }
      ]
    },
    {
      "cell_type": "markdown",
      "source": [
        "# Baseline Model: Most Popular Items"
      ],
      "metadata": {
        "id": "hHwbdsneksRU"
      }
    },
    {
      "cell_type": "markdown",
      "source": [
        "To establish a reference point for evaluating more advanced recommendation strategies, we start with a straightforward baseline model: recommending the most frequently purchased items. This simple heuristic serves as a sanity check and helps quantify the minimum performance a more sophisticated model should exceed.\n"
      ],
      "metadata": {
        "id": "ZEOO9Yi3o0yk"
      }
    },
    {
      "cell_type": "markdown",
      "source": [
        "Our baseline model recommends the top-k most frequently purchased articles across all users in the training set. This approach assumes that popularity alone is a good predictor of future purchases."
      ],
      "metadata": {
        "id": "GXCA8ItVoiiA"
      }
    },
    {
      "cell_type": "code",
      "source": [
        "top = train\\\n",
        "  .groupby(\"article_id\")\\\n",
        "  .size()\\\n",
        "  .sort_values(ascending=False)\\\n",
        "  .reset_index(name=\"count\")\\\n",
        "  .article_id\\\n",
        "  .tolist()\n",
        "\n",
        "def baseline(customers, k=12):\n",
        "  return pd.DataFrame({\n",
        "      \"customer_id\" : [customer for customer in customers for _ in range(k)],\n",
        "      \"rank\" : list(range(1, k+1)) * len(customers),\n",
        "      \"recommendation\" : top[:k] * len(customers)\n",
        "  })"
      ],
      "metadata": {
        "id": "Wf7bUErTDCJz"
      },
      "execution_count": 41,
      "outputs": []
    },
    {
      "cell_type": "markdown",
      "source": [
        "Applying the most popular items recommender yields a MAP@12 score of approximately `0.0029`. While this performance is relatively low, it provides a meaningful reference point against which more advanced models (e.g., collaborative filtering) can be evaluated."
      ],
      "metadata": {
        "id": "eT0a1mnm2YCL"
      }
    },
    {
      "cell_type": "code",
      "source": [
        "mapk(baseline, test)"
      ],
      "metadata": {
        "colab": {
          "base_uri": "https://localhost:8080/"
        },
        "id": "0xFWpKQliVAA",
        "outputId": "7403214d-670e-4ecb-b2e2-1f9e4195dc34"
      },
      "execution_count": 42,
      "outputs": [
        {
          "output_type": "execute_result",
          "data": {
            "text/plain": [
              "0.0032676198729058347"
            ]
          },
          "metadata": {},
          "execution_count": 42
        }
      ]
    },
    {
      "cell_type": "markdown",
      "source": [
        "While our initial baseline recommends globally popular items, it does not account for recency, which can be crucial in dynamic domains like fashion. To address this, we weight transactions by how recent they are, favoring items that were purchased more recently.\n",
        "\n",
        "We introduce a time-decay factor to weight each transaction inversely by the number of days before the start of the test period:"
      ],
      "metadata": {
        "id": "wyL99oAe2k5v"
      }
    },
    {
      "cell_type": "code",
      "source": [
        "top_temporal = train\\\n",
        "  .groupby(\"article_id\")[\"time_decay\"]\\\n",
        "  .sum()\\\n",
        "  .sort_values(ascending=False)\\\n",
        "  .reset_index(name=\"count\")\\\n",
        "  .article_id\\\n",
        "  .tolist()\n",
        "\n",
        "def temporal_baseline(customers, k=12):\n",
        "  return pd.DataFrame({\n",
        "      \"customer_id\" : [customer for customer in customers for _ in range(k)],\n",
        "      \"rank\" : list(range(1, k+1)) * len(customers),\n",
        "      \"recommendation\" : top_temporal[:k] * len(customers)\n",
        "  })"
      ],
      "metadata": {
        "id": "eBsmXZTR4m8V"
      },
      "execution_count": 43,
      "outputs": []
    },
    {
      "cell_type": "markdown",
      "source": [
        "The temporal baseline achieves a MAP@12 score of approximately `0.0055`, nearly doubling the score from our original baseline."
      ],
      "metadata": {
        "id": "1i_8OOsm7_wu"
      }
    },
    {
      "cell_type": "code",
      "source": [
        "mapk(temporal_baseline, test)"
      ],
      "metadata": {
        "colab": {
          "base_uri": "https://localhost:8080/"
        },
        "id": "bTww9_JEjK_H",
        "outputId": "051c59a5-8db2-47df-b580-5cb07f854282"
      },
      "execution_count": 44,
      "outputs": [
        {
          "output_type": "execute_result",
          "data": {
            "text/plain": [
              "0.007610863525074964"
            ]
          },
          "metadata": {},
          "execution_count": 44
        }
      ]
    },
    {
      "cell_type": "code",
      "source": [
        "item_list = articles.article_id.unique()\n",
        "\n",
        "def random_baseline(customers, k=12):\n",
        "    customers = np.asarray(customers)\n",
        "    n_customers = len(customers)\n",
        "\n",
        "    if k > len(item_list):\n",
        "        raise ValueError(\"k must be <= number of unique items\")\n",
        "\n",
        "    # Generate an array of shape (n_customers, len(item_list))\n",
        "    item_list_array = np.asarray(item_list)\n",
        "\n",
        "    # Create shuffled indices for each customer\n",
        "    shuffled_indices = np.array([\n",
        "        np.random.choice(len(item_list_array), size=k, replace=False)\n",
        "        for _ in range(n_customers)\n",
        "    ])\n",
        "\n",
        "    # Gather items by index\n",
        "    sampled_items = item_list_array[shuffled_indices]\n",
        "\n",
        "    # Flatten for final DataFrame\n",
        "    return pd.DataFrame({\n",
        "        \"customer_id\": np.repeat(customers, k),\n",
        "        \"rank\": np.tile(np.arange(1, k + 1), n_customers),\n",
        "        \"recommendation\": sampled_items.flatten()\n",
        "    })"
      ],
      "metadata": {
        "id": "BuUB7e-sjYaJ"
      },
      "execution_count": 74,
      "outputs": []
    },
    {
      "cell_type": "code",
      "source": [
        "mapk(random_baseline, test)"
      ],
      "metadata": {
        "colab": {
          "base_uri": "https://localhost:8080/"
        },
        "id": "Htw4L9evkqh_",
        "outputId": "0c780224-d431-4544-ff10-fc46281e4589"
      },
      "execution_count": 75,
      "outputs": [
        {
          "output_type": "execute_result",
          "data": {
            "text/plain": [
              "0.0"
            ]
          },
          "metadata": {},
          "execution_count": 75
        }
      ]
    },
    {
      "cell_type": "markdown",
      "source": [
        "#Matrix Factorization with ALS"
      ],
      "metadata": {
        "id": "yklhSLh-cNys"
      }
    },
    {
      "cell_type": "markdown",
      "source": [
        "To move beyond popularity-based methods, we turn to Collaborative Filtering using Matrix Factorization via Alternating Least Squares (ALS). This technique models latent relationships between users and items based on historical interaction patterns.\n",
        "\n",
        "To incorporate time dynamics into ALS, we define a confidence score for each interaction that decreases with the age of the transaction:\n",
        "\n",
        "$$\n",
        "c_{\\text{user},\\text{item}} = \\alpha \\cdot \\sum_{i} \\frac{1}{d_i}\n",
        "$$\n",
        "\n",
        "Where:\n",
        " - $d_i$ is the number of days since transaction $i$.\n",
        " - $\\alpha$ is a tunable scaling factor.\n",
        "\n",
        "We prepare the data by mapping customer and article IDs to integer indices, compute confidence scores using time decay, and construct a dense user-item matrix for training the ALS model."
      ],
      "metadata": {
        "id": "kl6KqfOCPS2l"
      }
    },
    {
      "cell_type": "code",
      "source": [
        "def train_als_model(train, factors, iterations, regularization, alpha):\n",
        "  user_ids = train['customer_id'].unique()\n",
        "  item_ids = train['article_id'].unique()\n",
        "\n",
        "  user_map = {id_: idx for idx, id_ in enumerate(user_ids)}\n",
        "  item_map = {id_: idx for idx, id_ in enumerate(item_ids)}\n",
        "\n",
        "  train['user_idx'] = train['customer_id'].map(user_map)\n",
        "  train['item_idx'] = train['article_id'].map(item_map)\n",
        "\n",
        "  purchase_counts = train.groupby(['user_idx', 'item_idx'])[\"time_decay\"].sum().reset_index(name='count')\n",
        "\n",
        "  item_user_matrix = sp.coo_matrix(\n",
        "      (purchase_counts['count'].astype(np.float32),\n",
        "        (purchase_counts['user_idx'], purchase_counts['item_idx'])),\n",
        "      shape=(len(user_map), len(item_map))\n",
        "  ).tocsr()\n",
        "\n",
        "  als_model = AlternatingLeastSquares(\n",
        "      factors=factors,\n",
        "      regularization=regularization,\n",
        "      iterations=iterations,\n",
        "      random_state=random_seed\n",
        "  )\n",
        "\n",
        "  als_model.fit(item_user_matrix)\n",
        "\n",
        "  return als_model, item_user_matrix, user_map, item_map"
      ],
      "metadata": {
        "id": "55Y7mk9Y5lwm"
      },
      "execution_count": null,
      "outputs": []
    },
    {
      "cell_type": "markdown",
      "source": [
        "One challenge with collaborative filtering is the cold start problem. ALS cannot recommend items for users with no historical data. To handle this, we fall back to our `temporal_baseline` model for unseen users."
      ],
      "metadata": {
        "id": "i0lULSnWPoXK"
      }
    },
    {
      "cell_type": "code",
      "source": [
        "def als_recommender(customer, als_model, item_user_matrix, user_map, item_map, k=12):\n",
        "    if customer not in user_map:\n",
        "        return temporal_baseline(customer, k=k)\n",
        "\n",
        "    reverse_item_map = {idx: id_ for id_, idx in item_map.items()}\n",
        "\n",
        "    user_idx = user_map[customer]\n",
        "    recommended = als_model.recommend(user_idx, item_user_matrix[user_idx], N=k, filter_already_liked_items=False)\n",
        "\n",
        "    # Map internal item indices back to article_ids\n",
        "    return [int(reverse_item_map[item_idx]) for item_idx in recommended[0]]"
      ],
      "metadata": {
        "id": "jz7pClLA_J04"
      },
      "execution_count": null,
      "outputs": []
    },
    {
      "cell_type": "markdown",
      "source": [
        "To optimize the performance of our ALS model, we conduct a grid search over several key hyperparameters. This systematic search allows us to evaluate different combinations of model settings and identify those that yield the best recommendation quality, measured using MAP@12."
      ],
      "metadata": {
        "id": "fmBvD4Dlf7oB"
      }
    },
    {
      "cell_type": "code",
      "source": [
        "results = []\n",
        "for regularization in [0.1]:\n",
        "    for factors in [20, 30]:\n",
        "        for iterations in [5, 10]:\n",
        "            for alpha in [30, 50, 100, 150]:\n",
        "                als_model, item_user_matrix, user_map, item_map = train_als_model(\n",
        "                    fitset, factors, iterations, regularization, alpha\n",
        "                )\n",
        "                als_partial = partial(\n",
        "                    als_recommender,\n",
        "                    als_model=als_model,\n",
        "                    item_user_matrix=item_user_matrix,\n",
        "                    user_map=user_map,\n",
        "                    item_map=item_map\n",
        "                )\n",
        "                result = {\n",
        "                    \"regularization\": regularization,\n",
        "                    \"factors\": factors,\n",
        "                    \"iterations\": iterations,\n",
        "                    \"alpha\": alpha,\n",
        "                    \"map12\": mapk(als_partial, validation_truth)\n",
        "                }\n",
        "                results.append(result)\n",
        "                print(result)"
      ],
      "metadata": {
        "id": "U76SEa8BEZRO"
      },
      "execution_count": null,
      "outputs": []
    },
    {
      "cell_type": "code",
      "source": [
        " pd.DataFrame.from_records(results).sort_values(\"map12\", ascending=False).head(5)"
      ],
      "metadata": {
        "colab": {
          "base_uri": "https://localhost:8080/",
          "height": 206
        },
        "id": "PKGJt8WpoCyu",
        "outputId": "763eb4f0-a91d-465b-d3e7-a4b0568df069"
      },
      "execution_count": null,
      "outputs": [
        {
          "output_type": "execute_result",
          "data": {
            "text/plain": [
              "    regularization  factors  iterations  alpha     map12\n",
              "1              0.1       20           5     50  0.004827\n",
              "9              0.1       30           5     50  0.004610\n",
              "2              0.1       20           5    100  0.004598\n",
              "0              0.1       20           5     30  0.004581\n",
              "10             0.1       30           5    100  0.004570"
            ],
            "text/html": [
              "<div>\n",
              "<style scoped>\n",
              "    .dataframe tbody tr th:only-of-type {\n",
              "        vertical-align: middle;\n",
              "    }\n",
              "\n",
              "    .dataframe tbody tr th {\n",
              "        vertical-align: top;\n",
              "    }\n",
              "\n",
              "    .dataframe thead th {\n",
              "        text-align: right;\n",
              "    }\n",
              "</style>\n",
              "<table border=\"1\" class=\"dataframe\">\n",
              "  <thead>\n",
              "    <tr style=\"text-align: right;\">\n",
              "      <th></th>\n",
              "      <th>regularization</th>\n",
              "      <th>factors</th>\n",
              "      <th>iterations</th>\n",
              "      <th>alpha</th>\n",
              "      <th>map12</th>\n",
              "    </tr>\n",
              "  </thead>\n",
              "  <tbody>\n",
              "    <tr>\n",
              "      <th>1</th>\n",
              "      <td>0.1</td>\n",
              "      <td>20</td>\n",
              "      <td>5</td>\n",
              "      <td>50</td>\n",
              "      <td>0.004827</td>\n",
              "    </tr>\n",
              "    <tr>\n",
              "      <th>9</th>\n",
              "      <td>0.1</td>\n",
              "      <td>30</td>\n",
              "      <td>5</td>\n",
              "      <td>50</td>\n",
              "      <td>0.004610</td>\n",
              "    </tr>\n",
              "    <tr>\n",
              "      <th>2</th>\n",
              "      <td>0.1</td>\n",
              "      <td>20</td>\n",
              "      <td>5</td>\n",
              "      <td>100</td>\n",
              "      <td>0.004598</td>\n",
              "    </tr>\n",
              "    <tr>\n",
              "      <th>0</th>\n",
              "      <td>0.1</td>\n",
              "      <td>20</td>\n",
              "      <td>5</td>\n",
              "      <td>30</td>\n",
              "      <td>0.004581</td>\n",
              "    </tr>\n",
              "    <tr>\n",
              "      <th>10</th>\n",
              "      <td>0.1</td>\n",
              "      <td>30</td>\n",
              "      <td>5</td>\n",
              "      <td>100</td>\n",
              "      <td>0.004570</td>\n",
              "    </tr>\n",
              "  </tbody>\n",
              "</table>\n",
              "</div>"
            ]
          },
          "metadata": {},
          "execution_count": 204
        }
      ]
    },
    {
      "cell_type": "markdown",
      "source": [
        "Based on the grid search, we retrain the ALS model on the full training dataset."
      ],
      "metadata": {
        "id": "e6Cns3oejeLy"
      }
    },
    {
      "cell_type": "code",
      "source": [
        "als_model, item_user_matrix, user_map, item_map = train_als_model(\n",
        "    train,\n",
        "    factors=20,\n",
        "    iterations=5,\n",
        "    regularization=0.1,\n",
        "    alpha=50\n",
        ")\n",
        "\n",
        "als_partial = partial(\n",
        "    als_recommender,\n",
        "    als_model=als_model,\n",
        "    item_user_matrix=item_user_matrix,\n",
        "    user_map=user_map,\n",
        "    item_map=item_map\n",
        ")"
      ],
      "metadata": {
        "id": "n6fCNIToBQdc"
      },
      "execution_count": null,
      "outputs": []
    },
    {
      "cell_type": "markdown",
      "source": [
        "The tuned ALS model achieves a MAP@12 score of approximately `0.0069`, which outperforms both baseline recommenders."
      ],
      "metadata": {
        "id": "cpjuvV0UgM7U"
      }
    },
    {
      "cell_type": "code",
      "source": [
        "mapk(als_partial, ground_truth)"
      ],
      "metadata": {
        "colab": {
          "base_uri": "https://localhost:8080/"
        },
        "id": "FW300DrCWEhv",
        "outputId": "88ef0485-ca7d-4f41-adef-0f369d4c2edf"
      },
      "execution_count": null,
      "outputs": [
        {
          "output_type": "execute_result",
          "data": {
            "text/plain": [
              "0.006031580349171337"
            ]
          },
          "metadata": {},
          "execution_count": 106
        }
      ]
    },
    {
      "cell_type": "markdown",
      "source": [
        "# Candidate Generation with Simple Heuristics"
      ],
      "metadata": {
        "id": "tVNaUE2NSjbj"
      }
    },
    {
      "cell_type": "markdown",
      "source": [
        "To improve recommendation quality, we shift from relying solely on collaborative filtering models like ALS to a hybrid approach. The core idea is to first generate a manageable set of promising candidate items using simple heuristics, and then let a learning-to-rank model (such as LightGBM Ranker) determine the optimal order of these items per user. This two-stage recommendation pipeline balances speed, diversity, and personalization."
      ],
      "metadata": {
        "id": "dzFw3Bh_Siwb"
      }
    },
    {
      "cell_type": "markdown",
      "source": [
        "**Step 1: Heuristic-Based Candidate Generation\n",
        "We generate a pool of article candidates per user using a mix of rules, including:**\n",
        "\n",
        "1. **Most Popular Items** – Items with the highest sales across all customers.\n",
        "\n",
        "2. **Time-Decayed Popularity** – Items that have sold well recently.\n",
        "\n",
        "3. **Customer Purchase History** – Articles the user previously interacted with.\n",
        "\n",
        "4. **Product Variants** – Other articles sharing the same `product_code` as items previously bought by the customer.\n",
        "\n",
        "This allows us to propose items that are both broadly appealing and tailored to user preferences."
      ],
      "metadata": {
        "id": "gFS2dvs3JXe8"
      }
    },
    {
      "cell_type": "code",
      "source": [
        "# Precompute best sellers for all weeks upfront\n",
        "best_sellers = train.groupby(\"week\")[\"article_id\"]\\\n",
        "  .value_counts()\\\n",
        "  .groupby(\"week\")\\\n",
        "  .rank(method='dense', ascending=False)\n",
        "best_sellers = best_sellers.rename('bestseller_rank').reset_index()\n",
        "best_sellers['week'] += 1  # Shift for easy lookup of \"last week\"\n",
        "best_sellers_dict = best_sellers.groupby('week')['article_id'].apply(list).to_dict()"
      ],
      "metadata": {
        "id": "oXCsIxJ6Hoq-"
      },
      "execution_count": null,
      "outputs": []
    },
    {
      "cell_type": "markdown",
      "source": [
        "To capture customer behavior, we store all articles each user has purchased by week:"
      ],
      "metadata": {
        "id": "AZdQkT2hJ2yu"
      }
    },
    {
      "cell_type": "code",
      "source": [
        "from collections import defaultdict\n",
        "\n",
        "# Initialize dictionary\n",
        "customer_history_pairs = defaultdict(list)\n",
        "\n",
        "# Single pass through the data\n",
        "for _, row in train.iterrows():\n",
        "    customer_history_pairs[row['customer_id']].append(\n",
        "        (row['week'], row['article_id'])\n",
        "    )"
      ],
      "metadata": {
        "id": "tTd0lwSQbXUH"
      },
      "execution_count": null,
      "outputs": []
    },
    {
      "cell_type": "markdown",
      "source": [
        "Some products appear in multiple styles or variants. We identify these relations using `product_code`:\n"
      ],
      "metadata": {
        "id": "mMK0-pCKJ-bf"
      }
    },
    {
      "cell_type": "code",
      "source": [
        "# Precompute article to product_code mapping\n",
        "article_to_product = {\n",
        "    article : product for article, product in zip(articles.article_id, articles.product_code)\n",
        "}\n",
        "\n",
        "# Precompute product code mappings\n",
        "product_code_map = articles.groupby('product_code')['article_id'].agg(list).to_dict()"
      ],
      "metadata": {
        "id": "KLXnEaHYRZnB"
      },
      "execution_count": null,
      "outputs": []
    },
    {
      "cell_type": "markdown",
      "source": [
        "The following function combines all of the above heuristics to build a personalized list of candidate articles per customer:"
      ],
      "metadata": {
        "id": "3uHibMXhKL6T"
      }
    },
    {
      "cell_type": "code",
      "source": [
        "def generate_recommendations(customer, week, k=12):\n",
        "  recommendations = set()\n",
        "\n",
        "  recommendations.update(baseline(customer, k=k))\n",
        "\n",
        "  recommendations.update(temporal_baseline(customer, k=k))\n",
        "\n",
        "  recommendations.update(best_sellers_dict.get(week, [])[:k])\n",
        "\n",
        "  past_purchases = [ac for w, ac in \\\n",
        "                    customer_history_pairs[customer] if w <= week][:k]\n",
        "\n",
        "  recommendations.update(past_purchases)\n",
        "\n",
        "  for article in past_purchases:\n",
        "    recommendations.update(product_code_map[article_to_product[article]])\n",
        "\n",
        "  return list(recommendations)"
      ],
      "metadata": {
        "id": "fHYSqBFqXCsv"
      },
      "execution_count": null,
      "outputs": []
    },
    {
      "cell_type": "markdown",
      "source": [
        "Once candidates are generated, we train a model to learn ranking preferences by labeling known purchases as positive (`1`) and sampled non-purchases as negative (`0`)."
      ],
      "metadata": {
        "id": "jvCSEVn814lk"
      }
    },
    {
      "cell_type": "code",
      "source": [
        "ranker_samples = train[[\"customer_id\", \"week\"]].drop_duplicates()\n",
        "\n",
        "ranker_samples[\"article_id\"] = ranker_samples.apply(\n",
        "    lambda x : generate_recommendations(\n",
        "        x[\"customer_id\"], x[\"week\"], k=20),\n",
        "    axis=1\n",
        "    )\n",
        "\n",
        "ranker_samples = ranker_samples.explode(\"article_id\")\n",
        "ranker_samples.head()"
      ],
      "metadata": {
        "colab": {
          "base_uri": "https://localhost:8080/",
          "height": 206
        },
        "outputId": "2b19fcf4-e31c-4559-f6bc-927085296ac3",
        "id": "EJiF29-p14lk"
      },
      "execution_count": null,
      "outputs": [
        {
          "output_type": "execute_result",
          "data": {
            "text/plain": [
              "                                         customer_id  week article_id\n",
              "0  215895f90002eb3d1a04bd603513c8e85e6002ef08f136...    51  706016001\n",
              "0  215895f90002eb3d1a04bd603513c8e85e6002ef08f136...    51  706016002\n",
              "0  215895f90002eb3d1a04bd603513c8e85e6002ef08f136...    51  706016003\n",
              "0  215895f90002eb3d1a04bd603513c8e85e6002ef08f136...    51  827968001\n",
              "0  215895f90002eb3d1a04bd603513c8e85e6002ef08f136...    51  562245001"
            ],
            "text/html": [
              "\n",
              "  <div id=\"df-0c5056d5-51dc-4cac-9842-5a37503ab1fc\" class=\"colab-df-container\">\n",
              "    <div>\n",
              "<style scoped>\n",
              "    .dataframe tbody tr th:only-of-type {\n",
              "        vertical-align: middle;\n",
              "    }\n",
              "\n",
              "    .dataframe tbody tr th {\n",
              "        vertical-align: top;\n",
              "    }\n",
              "\n",
              "    .dataframe thead th {\n",
              "        text-align: right;\n",
              "    }\n",
              "</style>\n",
              "<table border=\"1\" class=\"dataframe\">\n",
              "  <thead>\n",
              "    <tr style=\"text-align: right;\">\n",
              "      <th></th>\n",
              "      <th>customer_id</th>\n",
              "      <th>week</th>\n",
              "      <th>article_id</th>\n",
              "    </tr>\n",
              "  </thead>\n",
              "  <tbody>\n",
              "    <tr>\n",
              "      <th>0</th>\n",
              "      <td>215895f90002eb3d1a04bd603513c8e85e6002ef08f136...</td>\n",
              "      <td>51</td>\n",
              "      <td>706016001</td>\n",
              "    </tr>\n",
              "    <tr>\n",
              "      <th>0</th>\n",
              "      <td>215895f90002eb3d1a04bd603513c8e85e6002ef08f136...</td>\n",
              "      <td>51</td>\n",
              "      <td>706016002</td>\n",
              "    </tr>\n",
              "    <tr>\n",
              "      <th>0</th>\n",
              "      <td>215895f90002eb3d1a04bd603513c8e85e6002ef08f136...</td>\n",
              "      <td>51</td>\n",
              "      <td>706016003</td>\n",
              "    </tr>\n",
              "    <tr>\n",
              "      <th>0</th>\n",
              "      <td>215895f90002eb3d1a04bd603513c8e85e6002ef08f136...</td>\n",
              "      <td>51</td>\n",
              "      <td>827968001</td>\n",
              "    </tr>\n",
              "    <tr>\n",
              "      <th>0</th>\n",
              "      <td>215895f90002eb3d1a04bd603513c8e85e6002ef08f136...</td>\n",
              "      <td>51</td>\n",
              "      <td>562245001</td>\n",
              "    </tr>\n",
              "  </tbody>\n",
              "</table>\n",
              "</div>\n",
              "    <div class=\"colab-df-buttons\">\n",
              "\n",
              "  <div class=\"colab-df-container\">\n",
              "    <button class=\"colab-df-convert\" onclick=\"convertToInteractive('df-0c5056d5-51dc-4cac-9842-5a37503ab1fc')\"\n",
              "            title=\"Convert this dataframe to an interactive table.\"\n",
              "            style=\"display:none;\">\n",
              "\n",
              "  <svg xmlns=\"http://www.w3.org/2000/svg\" height=\"24px\" viewBox=\"0 -960 960 960\">\n",
              "    <path d=\"M120-120v-720h720v720H120Zm60-500h600v-160H180v160Zm220 220h160v-160H400v160Zm0 220h160v-160H400v160ZM180-400h160v-160H180v160Zm440 0h160v-160H620v160ZM180-180h160v-160H180v160Zm440 0h160v-160H620v160Z\"/>\n",
              "  </svg>\n",
              "    </button>\n",
              "\n",
              "  <style>\n",
              "    .colab-df-container {\n",
              "      display:flex;\n",
              "      gap: 12px;\n",
              "    }\n",
              "\n",
              "    .colab-df-convert {\n",
              "      background-color: #E8F0FE;\n",
              "      border: none;\n",
              "      border-radius: 50%;\n",
              "      cursor: pointer;\n",
              "      display: none;\n",
              "      fill: #1967D2;\n",
              "      height: 32px;\n",
              "      padding: 0 0 0 0;\n",
              "      width: 32px;\n",
              "    }\n",
              "\n",
              "    .colab-df-convert:hover {\n",
              "      background-color: #E2EBFA;\n",
              "      box-shadow: 0px 1px 2px rgba(60, 64, 67, 0.3), 0px 1px 3px 1px rgba(60, 64, 67, 0.15);\n",
              "      fill: #174EA6;\n",
              "    }\n",
              "\n",
              "    .colab-df-buttons div {\n",
              "      margin-bottom: 4px;\n",
              "    }\n",
              "\n",
              "    [theme=dark] .colab-df-convert {\n",
              "      background-color: #3B4455;\n",
              "      fill: #D2E3FC;\n",
              "    }\n",
              "\n",
              "    [theme=dark] .colab-df-convert:hover {\n",
              "      background-color: #434B5C;\n",
              "      box-shadow: 0px 1px 3px 1px rgba(0, 0, 0, 0.15);\n",
              "      filter: drop-shadow(0px 1px 2px rgba(0, 0, 0, 0.3));\n",
              "      fill: #FFFFFF;\n",
              "    }\n",
              "  </style>\n",
              "\n",
              "    <script>\n",
              "      const buttonEl =\n",
              "        document.querySelector('#df-0c5056d5-51dc-4cac-9842-5a37503ab1fc button.colab-df-convert');\n",
              "      buttonEl.style.display =\n",
              "        google.colab.kernel.accessAllowed ? 'block' : 'none';\n",
              "\n",
              "      async function convertToInteractive(key) {\n",
              "        const element = document.querySelector('#df-0c5056d5-51dc-4cac-9842-5a37503ab1fc');\n",
              "        const dataTable =\n",
              "          await google.colab.kernel.invokeFunction('convertToInteractive',\n",
              "                                                    [key], {});\n",
              "        if (!dataTable) return;\n",
              "\n",
              "        const docLinkHtml = 'Like what you see? Visit the ' +\n",
              "          '<a target=\"_blank\" href=https://colab.research.google.com/notebooks/data_table.ipynb>data table notebook</a>'\n",
              "          + ' to learn more about interactive tables.';\n",
              "        element.innerHTML = '';\n",
              "        dataTable['output_type'] = 'display_data';\n",
              "        await google.colab.output.renderOutput(dataTable, element);\n",
              "        const docLink = document.createElement('div');\n",
              "        docLink.innerHTML = docLinkHtml;\n",
              "        element.appendChild(docLink);\n",
              "      }\n",
              "    </script>\n",
              "  </div>\n",
              "\n",
              "\n",
              "    <div id=\"df-566e7f43-9e2b-477a-abac-60f8723ef6b3\">\n",
              "      <button class=\"colab-df-quickchart\" onclick=\"quickchart('df-566e7f43-9e2b-477a-abac-60f8723ef6b3')\"\n",
              "                title=\"Suggest charts\"\n",
              "                style=\"display:none;\">\n",
              "\n",
              "<svg xmlns=\"http://www.w3.org/2000/svg\" height=\"24px\"viewBox=\"0 0 24 24\"\n",
              "     width=\"24px\">\n",
              "    <g>\n",
              "        <path d=\"M19 3H5c-1.1 0-2 .9-2 2v14c0 1.1.9 2 2 2h14c1.1 0 2-.9 2-2V5c0-1.1-.9-2-2-2zM9 17H7v-7h2v7zm4 0h-2V7h2v10zm4 0h-2v-4h2v4z\"/>\n",
              "    </g>\n",
              "</svg>\n",
              "      </button>\n",
              "\n",
              "<style>\n",
              "  .colab-df-quickchart {\n",
              "      --bg-color: #E8F0FE;\n",
              "      --fill-color: #1967D2;\n",
              "      --hover-bg-color: #E2EBFA;\n",
              "      --hover-fill-color: #174EA6;\n",
              "      --disabled-fill-color: #AAA;\n",
              "      --disabled-bg-color: #DDD;\n",
              "  }\n",
              "\n",
              "  [theme=dark] .colab-df-quickchart {\n",
              "      --bg-color: #3B4455;\n",
              "      --fill-color: #D2E3FC;\n",
              "      --hover-bg-color: #434B5C;\n",
              "      --hover-fill-color: #FFFFFF;\n",
              "      --disabled-bg-color: #3B4455;\n",
              "      --disabled-fill-color: #666;\n",
              "  }\n",
              "\n",
              "  .colab-df-quickchart {\n",
              "    background-color: var(--bg-color);\n",
              "    border: none;\n",
              "    border-radius: 50%;\n",
              "    cursor: pointer;\n",
              "    display: none;\n",
              "    fill: var(--fill-color);\n",
              "    height: 32px;\n",
              "    padding: 0;\n",
              "    width: 32px;\n",
              "  }\n",
              "\n",
              "  .colab-df-quickchart:hover {\n",
              "    background-color: var(--hover-bg-color);\n",
              "    box-shadow: 0 1px 2px rgba(60, 64, 67, 0.3), 0 1px 3px 1px rgba(60, 64, 67, 0.15);\n",
              "    fill: var(--button-hover-fill-color);\n",
              "  }\n",
              "\n",
              "  .colab-df-quickchart-complete:disabled,\n",
              "  .colab-df-quickchart-complete:disabled:hover {\n",
              "    background-color: var(--disabled-bg-color);\n",
              "    fill: var(--disabled-fill-color);\n",
              "    box-shadow: none;\n",
              "  }\n",
              "\n",
              "  .colab-df-spinner {\n",
              "    border: 2px solid var(--fill-color);\n",
              "    border-color: transparent;\n",
              "    border-bottom-color: var(--fill-color);\n",
              "    animation:\n",
              "      spin 1s steps(1) infinite;\n",
              "  }\n",
              "\n",
              "  @keyframes spin {\n",
              "    0% {\n",
              "      border-color: transparent;\n",
              "      border-bottom-color: var(--fill-color);\n",
              "      border-left-color: var(--fill-color);\n",
              "    }\n",
              "    20% {\n",
              "      border-color: transparent;\n",
              "      border-left-color: var(--fill-color);\n",
              "      border-top-color: var(--fill-color);\n",
              "    }\n",
              "    30% {\n",
              "      border-color: transparent;\n",
              "      border-left-color: var(--fill-color);\n",
              "      border-top-color: var(--fill-color);\n",
              "      border-right-color: var(--fill-color);\n",
              "    }\n",
              "    40% {\n",
              "      border-color: transparent;\n",
              "      border-right-color: var(--fill-color);\n",
              "      border-top-color: var(--fill-color);\n",
              "    }\n",
              "    60% {\n",
              "      border-color: transparent;\n",
              "      border-right-color: var(--fill-color);\n",
              "    }\n",
              "    80% {\n",
              "      border-color: transparent;\n",
              "      border-right-color: var(--fill-color);\n",
              "      border-bottom-color: var(--fill-color);\n",
              "    }\n",
              "    90% {\n",
              "      border-color: transparent;\n",
              "      border-bottom-color: var(--fill-color);\n",
              "    }\n",
              "  }\n",
              "</style>\n",
              "\n",
              "      <script>\n",
              "        async function quickchart(key) {\n",
              "          const quickchartButtonEl =\n",
              "            document.querySelector('#' + key + ' button');\n",
              "          quickchartButtonEl.disabled = true;  // To prevent multiple clicks.\n",
              "          quickchartButtonEl.classList.add('colab-df-spinner');\n",
              "          try {\n",
              "            const charts = await google.colab.kernel.invokeFunction(\n",
              "                'suggestCharts', [key], {});\n",
              "          } catch (error) {\n",
              "            console.error('Error during call to suggestCharts:', error);\n",
              "          }\n",
              "          quickchartButtonEl.classList.remove('colab-df-spinner');\n",
              "          quickchartButtonEl.classList.add('colab-df-quickchart-complete');\n",
              "        }\n",
              "        (() => {\n",
              "          let quickchartButtonEl =\n",
              "            document.querySelector('#df-566e7f43-9e2b-477a-abac-60f8723ef6b3 button');\n",
              "          quickchartButtonEl.style.display =\n",
              "            google.colab.kernel.accessAllowed ? 'block' : 'none';\n",
              "        })();\n",
              "      </script>\n",
              "    </div>\n",
              "\n",
              "    </div>\n",
              "  </div>\n"
            ],
            "application/vnd.google.colaboratory.intrinsic+json": {
              "type": "dataframe",
              "variable_name": "ranker_samples"
            }
          },
          "metadata": {},
          "execution_count": 17
        }
      ]
    },
    {
      "cell_type": "markdown",
      "source": [
        "We label the items that the customer actually purchased as positives:"
      ],
      "metadata": {
        "id": "12nz1TV-KX_p"
      }
    },
    {
      "cell_type": "code",
      "source": [
        "positive_samples = train.merge(ranker_samples, on=[\"customer_id\", \"week\", \"article_id\"])[[\"t_dat\", \"customer_id\", \"article_id\", \"week\"]]\n",
        "positive_samples[\"label\"] = 1"
      ],
      "metadata": {
        "id": "tqZoSZEX14lk"
      },
      "execution_count": null,
      "outputs": []
    },
    {
      "cell_type": "markdown",
      "source": [
        "All other candidates that were not purchased are negatives:"
      ],
      "metadata": {
        "id": "x-l3v9HSKam_"
      }
    },
    {
      "cell_type": "code",
      "source": [
        "positive_key = positive_samples[['customer_id', 'week', 'article_id']].drop_duplicates()\n",
        "ranker_key = ranker_samples[['customer_id', 'week', 'article_id']].drop_duplicates()\n",
        "\n",
        "# Find negative samples (in ranker but not in positive)\n",
        "negative_samples = pd.merge(\n",
        "    ranker_key,\n",
        "    positive_key,\n",
        "    on=['customer_id', 'week', 'article_id'],\n",
        "    how='left',\n",
        "    indicator=True\n",
        ")\n",
        "\n",
        "# Filter to only keep samples not in positive\n",
        "negative_samples = negative_samples[negative_samples['_merge'] == 'left_only']\n",
        "\n",
        "# Drop the merge indicator column\n",
        "negative_samples = negative_samples.drop('_merge', axis=1)\n",
        "\n",
        "# Add label column with 0 (negative)\n",
        "negative_samples['label'] = 0"
      ],
      "metadata": {
        "id": "UZpRtKJn5UpS"
      },
      "execution_count": null,
      "outputs": []
    },
    {
      "cell_type": "markdown",
      "source": [
        "Finally, we concatenate a small subset of these negatives to avoid class imbalance:"
      ],
      "metadata": {
        "id": "kKCCPqZvKdAP"
      }
    },
    {
      "cell_type": "code",
      "source": [
        "samples = pd.concat([positive_samples, negative_samples.sample(frac=0.2)]).drop(\"t_dat\", axis=1)"
      ],
      "metadata": {
        "id": "6rtNj6lUqUkM"
      },
      "execution_count": null,
      "outputs": []
    },
    {
      "cell_type": "markdown",
      "source": [
        "# Feature Engineering"
      ],
      "metadata": {
        "id": "o9Tt8HPzsgFE"
      }
    },
    {
      "cell_type": "markdown",
      "source": [
        "Now that we’ve generated a set of candidate articles and labeled them as positive (purchased) or negative (not purchased), the next step is to create meaningful features that the ranking model can learn from.\n",
        "\n",
        "The goal of feature engineering in this context is to describe the relationship between a customer and a candidate article, using both demographic data, historical interactions, and item-level trends."
      ],
      "metadata": {
        "id": "7U_BxH3TskcW"
      }
    },
    {
      "cell_type": "markdown",
      "source": [
        "**Customer-Article Interaction Features:**\n",
        "These features capture how aligned a candidate article is with a customer's historical preferences or profile.\n",
        "\n",
        "**1. Distance from Average Age**: We compute how far the customer's age deviates from the average age of customers who typically purchase this article in the previous week."
      ],
      "metadata": {
        "id": "4w9JNcRILANy"
      }
    },
    {
      "cell_type": "code",
      "source": [
        "age_by_article = pd.merge(train, customers, on=\"customer_id\")\\\n",
        "  .groupby([\"week\", \"article_id\"])[\"age\"]\\\n",
        "  .mean()\\\n",
        "  .rename(\"average_age\")\\\n",
        "  .reset_index()\n",
        "\n",
        "average_age_by_article = {}\n",
        "for _, row in age_by_article.iterrows():\n",
        "  week, article_id, age = row\n",
        "  average_age_by_article[(article_id, week)] = age\n",
        "\n",
        "def distance_from_average_age(article_id, week, customer_age):\n",
        "  # note, need to go for last week, hence week - 1\n",
        "  if (article_id, week - 1) in average_age_by_article:\n",
        "    return customer_age - average_age_by_article[(article_id, week - 1)]\n",
        "  else:\n",
        "    return np.nan"
      ],
      "metadata": {
        "id": "jruyArb_W8ng"
      },
      "execution_count": null,
      "outputs": []
    },
    {
      "cell_type": "markdown",
      "source": [
        "**2. Time Since Last Purchase:** This feature reflects customer recency. How recently they interacted with the platform"
      ],
      "metadata": {
        "id": "TIOGW-h1uk9s"
      }
    },
    {
      "cell_type": "code",
      "source": [
        "temp = train[[\"customer_id\", \"week\"]].drop_duplicates()\n",
        "\n",
        "previous_purchase = defaultdict(list)\n",
        "for _, row in temp.iterrows():\n",
        "  customer_id, week = row\n",
        "  previous_purchase[customer_id].append(week)\n",
        "\n",
        "for key in previous_purchase:\n",
        "  previous_purchase[key] = sorted(previous_purchase[key], reverse=True)\n",
        "\n",
        "def time_since_last_purchase(customer_id, week):\n",
        "  for purchase in previous_purchase[customer_id]:\n",
        "    if purchase < week:\n",
        "      return week - purchase\n",
        "\n",
        "  return np.nan"
      ],
      "metadata": {
        "id": "TMy1S-XzaS4Y"
      },
      "execution_count": null,
      "outputs": []
    },
    {
      "cell_type": "markdown",
      "source": [
        "**3. Article/Customer Statistics:** For each article (and its corresponding product group and product code), we compute how many times the customer has purchased similar items in the last week.\n",
        "\n",
        "We also track global sales trends. How many times an article, product code, or product group sold last week across all customers. These provide context on the item’s popularity.\n",
        "\n"
      ],
      "metadata": {
        "id": "JRzl09nXed34"
      }
    },
    {
      "cell_type": "code",
      "source": [
        "# Load and merge data\n",
        "article_table = articles[[\"article_id\", \"product_code\", \"product_group_name\"]]\n",
        "article_features = pd.merge(train, article_table, on=\"article_id\")\n",
        "\n",
        "def counted_column(column, customer=False):\n",
        "    group_cols = [column, \"customer_id\", \"week\"] if customer else [column, \"week\"]\n",
        "    return article_features\\\n",
        "      .groupby(group_cols)\\\n",
        "      .size()\\\n",
        "      .reset_index(name=f\"{column}_sales\")\n",
        "\n",
        "# Helper function to create nested defaultdicts\n",
        "def create_nested_dict(depth=2, default_type=int):\n",
        "    if depth == 1:\n",
        "        return defaultdict(default_type)\n",
        "    return defaultdict(lambda: create_nested_dict(depth - 1, default_type))\n",
        "\n",
        "# Generate all sales and purchase mappings\n",
        "def generate_mappings(column):\n",
        "    # Sales data (without customer)\n",
        "    sales_data = counted_column(column)\n",
        "    sales_dict = create_nested_dict(depth=2)\n",
        "    for row in sales_data.itertuples(index=False):\n",
        "        sales_dict[row[0]][row[1]] = row[2]\n",
        "\n",
        "    # Purchase data (with customer)\n",
        "    purchase_data = counted_column(column, customer=True)\n",
        "    purchase_dict = create_nested_dict(depth=3)\n",
        "    for row in purchase_data.itertuples(index=False):\n",
        "        purchase_dict[row[0]][row[1]][row[2]] = row[3]\n",
        "\n",
        "    return sales_dict, purchase_dict\n",
        "\n",
        "# Generate all mappings\n",
        "article_sales, article_purchases = generate_mappings(\"article_id\")\n",
        "product_code_sales, product_code_purchases = generate_mappings(\"product_code\")\n",
        "product_group_sales, product_group_purchases = generate_mappings(\"product_group_name\")\n",
        "\n",
        "def mapping_function(dictionary, id, week, customer_id=None):\n",
        "  if week > 0:\n",
        "    if customer_id is not None:\n",
        "      return dictionary[id][customer_id][week - 1]\n",
        "    else:\n",
        "      return dictionary[id][week - 1]\n",
        "  else:\n",
        "    return np.nan"
      ],
      "metadata": {
        "id": "lXKMnUwFC4R4"
      },
      "execution_count": null,
      "outputs": []
    },
    {
      "cell_type": "markdown",
      "source": [
        "Now lets add the features to our dataset"
      ],
      "metadata": {
        "id": "DkaoPzCMrwQd"
      }
    },
    {
      "cell_type": "code",
      "source": [
        "def generate_features(samples):\n",
        "  customer_rows = samples[[\"article_id\", \"customer_id\", \"week\"]].drop_duplicates()\n",
        "  customer_rows = pd.merge(customer_rows, customers[[\"customer_id\", \"age\"]], on=\"customer_id\")\n",
        "\n",
        "  customer_rows[\"distance_from_average_age\"] = customer_rows.apply(\n",
        "      lambda x : distance_from_average_age(x[\"article_id\"], x[\"week\"], x[\"age\"]),\n",
        "      axis=1)\n",
        "\n",
        "  customer_rows[\"time_since_last_purchase\"] = customer_rows.apply(\n",
        "      lambda x : time_since_last_purchase(x[\"customer_id\"], x[\"week\"]),\n",
        "      axis=1)\n",
        "\n",
        "  customer_rows[\"last_week_article_purchases\"] = customer_rows.apply(\n",
        "      lambda x : mapping_function(article_purchases, x[\"article_id\"], x[\"week\"], customer_id=x[\"customer_id\"]),\n",
        "      axis=1)\n",
        "\n",
        "  customer_rows[\"last_week_product_purchases\"] = customer_rows.apply(\n",
        "      lambda x : mapping_function(product_code_purchases, x[\"article_id\"], x[\"week\"], customer_id=x[\"customer_id\"]),\n",
        "      axis=1)\n",
        "\n",
        "  customer_rows[\"last_week_group_purchases\"] = customer_rows.apply(\n",
        "      lambda x : mapping_function(product_group_purchases, x[\"article_id\"], x[\"week\"], customer_id=x[\"customer_id\"]),\n",
        "      axis=1)\n",
        "\n",
        "  article_weeks = samples[[\"article_id\", \"week\"]].drop_duplicates()\n",
        "  article_weeks = pd.merge(article_weeks,\n",
        "                          articles[[\"article_id\",\n",
        "                                    \"product_code\",\n",
        "                                    \"product_group_name\"]],\n",
        "                          on=\"article_id\")\n",
        "\n",
        "  article_weeks[\"last_week_article_sales\"] = article_weeks.apply(\n",
        "      lambda x : mapping_function(article_sales, x[\"article_id\"], x[\"week\"]),\n",
        "      axis=1\n",
        "  )\n",
        "\n",
        "  product_weeks = article_weeks[[\"product_code\", \"week\"]].drop_duplicates()\n",
        "  product_weeks[\"last_week_product_sales\"] = product_weeks.apply(\n",
        "      lambda x : mapping_function(product_code_sales, x[\"product_code\"], x[\"week\"]),\n",
        "      axis=1\n",
        "  )\n",
        "\n",
        "  group_weeks = article_weeks[[\"product_group_name\", \"week\"]].drop_duplicates()\n",
        "  group_weeks[\"last_week_group_sales\"] = group_weeks.apply(\n",
        "      lambda x : mapping_function(product_group_sales, x[\"product_group_name\"], x[\"week\"]),\n",
        "      axis=1\n",
        "  )\n",
        "\n",
        "  article_weeks = article_weeks.merge(product_weeks, on=[\"product_code\", \"week\"], how=\"left\")\\\n",
        "                              .merge(group_weeks, on=[\"product_group_name\", \"week\"], how=\"left\")\n",
        "\n",
        "  features = customer_rows.merge(article_weeks, on=[\"article_id\", \"week\"], how=\"left\")\n",
        "  features[\"article_percentage\"] = customer_rows[\"last_week_article_purchases\"] / article_weeks[\"last_week_article_sales\"]\n",
        "  features[\"product_percentage\"] = customer_rows[\"last_week_product_purchases\"] / article_weeks[\"last_week_product_sales\"]\n",
        "  features[\"group_percentage\"] = customer_rows[\"last_week_group_purchases\"] / article_weeks[\"last_week_group_sales\"]\n",
        "\n",
        "  samples = samples.merge(features, on=[\"customer_id\", \"article_id\", \"week\"], how=\"left\")\n",
        "  samples = samples.merge(articles, on=[\"article_id\", \"product_code\", \"product_group_name\"], how=\"left\")\n",
        "  samples = samples.merge(customers, on=[\"customer_id\", \"age\"], how=\"left\")\n",
        "\n",
        "  return samples"
      ],
      "metadata": {
        "id": "LzF22woFrynf"
      },
      "execution_count": null,
      "outputs": []
    },
    {
      "cell_type": "code",
      "source": [
        "samples_ = generate_features(samples)"
      ],
      "metadata": {
        "id": "cQDqbtOtFIxz"
      },
      "execution_count": null,
      "outputs": []
    },
    {
      "cell_type": "markdown",
      "source": [
        "# Ranking with LightGBM"
      ],
      "metadata": {
        "id": "pKzgG8EMWRl1"
      }
    },
    {
      "cell_type": "markdown",
      "source": [
        "With the labeled dataset prepared, we now train a learning-to-rank model using LightGBM with the `lambdarank` objective. This allows the model to learn relative ranking preferences. i.e., which items should be shown higher in the list for a given customer-week pair."
      ],
      "metadata": {
        "id": "6RPlOMM8FWS8"
      }
    },
    {
      "cell_type": "code",
      "source": [
        "columns_to_use = ['article_id', 'label', 'age',\n",
        "                  'distance_from_average_age', 'time_since_last_purchase',\n",
        "                  'last_week_article_purchases', 'last_week_product_purchases',\n",
        "                  'last_week_group_purchases','last_week_article_sales',\n",
        "                  'last_week_product_sales', 'last_week_group_sales',\n",
        "                  'article_percentage', 'product_percentage',\n",
        "                  'group_percentage', 'graphical_appearance_name',\n",
        "                  'colour_group_name', 'perceived_colour_value_name',\n",
        "                  'perceived_colour_master_name', 'department_name',\n",
        "                  'index_name', 'index_group_name', 'section_name',\n",
        "                  'garment_group_name', 'detail_desc', 'FN', 'Active',\n",
        "                  'club_member_status', 'fashion_news_frequency', 'postal_code']\n",
        "\n",
        "categorical_cols = samples_[columns_to_use].select_dtypes(include=['object']).columns.tolist()\n",
        "\n",
        "for col in categorical_cols:\n",
        "  samples_[col] = samples_[col].astype('category')\n",
        "\n",
        "samples_ = samples_.sort_values([\"week\", \"customer_id\"])\n",
        "\n",
        "train_ = samples_[samples_.week != total_weeks].reset_index(drop=True)\n",
        "\n",
        "train_baskets = train_.groupby(['week', 'customer_id'], observed=True).size().values\n",
        "\n",
        "train_ = train_[columns_to_use]\n",
        "\n",
        "X_train = train_.drop(\"label\", axis=1)\n",
        "y_train = train_[\"label\"]"
      ],
      "metadata": {
        "id": "TnYVVMqKU767"
      },
      "execution_count": null,
      "outputs": []
    },
    {
      "cell_type": "markdown",
      "source": [
        "And we train the ranking algorithm"
      ],
      "metadata": {
        "id": "_b7SUfkFFaSm"
      }
    },
    {
      "cell_type": "code",
      "source": [
        "from lightgbm.sklearn import LGBMRanker\n",
        "\n",
        "ranker = LGBMRanker(\n",
        "    objective=\"lambdarank\",\n",
        "    metric=\"ndcg\",\n",
        "    boosting_type=\"dart\",\n",
        "    n_estimators=100,\n",
        "    importance_type='gain',\n",
        "    verbose=10\n",
        ")\n",
        "\n",
        "ranker.fit(\n",
        "    X_train,\n",
        "    y_train,\n",
        "    group=train_baskets,\n",
        "    categorical_feature=categorical_cols\n",
        ")"
      ],
      "metadata": {
        "id": "a_7LwFrMWD9T"
      },
      "execution_count": null,
      "outputs": []
    },
    {
      "cell_type": "markdown",
      "source": [
        "We prepare the recommender function."
      ],
      "metadata": {
        "id": "hZ7btULtFfR1"
      }
    },
    {
      "cell_type": "code",
      "source": [
        "def lgbm_recommender(customer_ids, k=12, week=total_weeks):\n",
        "    candidate_df = pd.DataFrame({\n",
        "        'customer_id': customer_ids,\n",
        "        'week': week\n",
        "    })\n",
        "\n",
        "    candidate_df['article_id'] = \\\n",
        "      candidate_df[\"customer_id\"].apply(lambda x : generate_recommendations(x, week, k=100))\n",
        "\n",
        "    candidate_df = candidate_df.explode(\"article_id\")\n",
        "\n",
        "    candidate_df = generate_features(candidate_df)\n",
        "\n",
        "    columns_to_use = ['article_id', 'age',\n",
        "                      'distance_from_average_age', 'time_since_last_purchase',\n",
        "                      'last_week_article_purchases', 'last_week_product_purchases',\n",
        "                      'last_week_group_purchases','last_week_article_sales',\n",
        "                      'last_week_product_sales', 'last_week_group_sales',\n",
        "                      'article_percentage', 'product_percentage',\n",
        "                      'group_percentage', 'graphical_appearance_name',\n",
        "                      'colour_group_name', 'perceived_colour_value_name',\n",
        "                      'perceived_colour_master_name', 'department_name',\n",
        "                      'index_name', 'index_group_name', 'section_name',\n",
        "                      'garment_group_name', 'detail_desc', 'FN', 'Active',\n",
        "                      'club_member_status', 'fashion_news_frequency', 'postal_code']\n",
        "\n",
        "    X_pred = candidate_df[columns_to_use].copy()\n",
        "\n",
        "    # Note that this code depends on external variables categorical_cols and X_train\n",
        "    for col in categorical_cols:\n",
        "      X_pred[col] = pd.Categorical(\n",
        "          X_pred[col],\n",
        "          categories=X_train[col].cat.categories\n",
        "      )\n",
        "\n",
        "    X_pred[\"scores\"] = ranker.predict(X_pred)\n",
        "    X_pred[\"customer_id\"] = candidate_df[\"customer_id\"]\n",
        "    return X_pred.sort_values(\"scores\", ascending=False)\\\n",
        "              .groupby(\"customer_id\")\\\n",
        "              .head(12)[[\"customer_id\", \"article_id\"]].reset_index(drop=True)\\\n",
        "              .groupby(\"customer_id\").agg(list).reset_index()\n"
      ],
      "metadata": {
        "id": "lfNyG5afDg8h"
      },
      "execution_count": null,
      "outputs": []
    },
    {
      "cell_type": "markdown",
      "source": [
        "And we calculate the MAP@K"
      ],
      "metadata": {
        "id": "0YNT_jTjFn6B"
      }
    },
    {
      "cell_type": "code",
      "source": [
        "def mapk_ext(recommender: callable, valid_gt: pd.DataFrame, k: int = 12) -> float:\n",
        "    df = valid_gt.copy()\n",
        "    recommendations = recommender(df[\"customer\"].unique(), k=k)\n",
        "    recommendations.columns = [\"customer\", \"recommendations\"]\n",
        "    df = df.merge(recommendations, on=\"customer\")\n",
        "\n",
        "    df[\"average_precision\"] = df.apply(\n",
        "        lambda x: apk(x[\"recommendations\"], x[\"purchased\"], k=k),\n",
        "        axis=1\n",
        "    )\n",
        "\n",
        "    return float(df.average_precision.mean())\n"
      ],
      "metadata": {
        "id": "kZ7ZqVv7sevj"
      },
      "execution_count": null,
      "outputs": []
    },
    {
      "cell_type": "code",
      "source": [
        "mapk_ext(lgbm_recommender, ground_truth)"
      ],
      "metadata": {
        "colab": {
          "base_uri": "https://localhost:8080/"
        },
        "id": "iAFtl2iDvyF4",
        "outputId": "fb96976c-36d8-4e14-ce01-f3da2e10f27f"
      },
      "execution_count": null,
      "outputs": [
        {
          "output_type": "execute_result",
          "data": {
            "text/plain": [
              "0.0026203793318178067"
            ]
          },
          "metadata": {},
          "execution_count": 194
        }
      ]
    },
    {
      "cell_type": "code",
      "source": [],
      "metadata": {
        "id": "K14r9Al134WV"
      },
      "execution_count": null,
      "outputs": []
    }
  ]
}